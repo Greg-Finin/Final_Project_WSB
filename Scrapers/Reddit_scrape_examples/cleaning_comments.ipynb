{
 "metadata": {
  "language_info": {
   "codemirror_mode": {
    "name": "ipython",
    "version": 3
   },
   "file_extension": ".py",
   "mimetype": "text/x-python",
   "name": "python",
   "nbconvert_exporter": "python",
   "pygments_lexer": "ipython3",
   "version": "3.7.9-final"
  },
  "orig_nbformat": 2,
  "kernelspec": {
   "name": "python3",
   "display_name": "Python 3",
   "language": "python"
  }
 },
 "nbformat": 4,
 "nbformat_minor": 2,
 "cells": [
  {
   "cell_type": "code",
   "execution_count": 5,
   "metadata": {},
   "outputs": [],
   "source": [
    "import pandas as pd"
   ]
  },
  {
   "cell_type": "code",
   "execution_count": 15,
   "metadata": {},
   "outputs": [
    {
     "output_type": "execute_result",
     "data": {
      "text/plain": [
       "         Unnamed: 0            author  \\\n",
       "0                 0               NaN   \n",
       "1                 1               NaN   \n",
       "2                 2               NaN   \n",
       "3                 3     standardalias   \n",
       "4                 4  felipesizzosmoes   \n",
       "...             ...               ...   \n",
       "1673095     1673095    snacksandmetal   \n",
       "1673096     1673096       ohhailsatan   \n",
       "1673097     1673097               NaN   \n",
       "1673098     1673098               NaN   \n",
       "1673099     1673099               NaN   \n",
       "\n",
       "                                                      body       created  \\\n",
       "0                                                [removed]  1.612380e+09   \n",
       "1                                                [removed]  1.612380e+09   \n",
       "2                                                [removed]  1.612380e+09   \n",
       "3        IV is not tooooo retarded for the ETSY 2/26 $2...  1.612380e+09   \n",
       "4        you're a fuckin amateur if you're getting moun...  1.612380e+09   \n",
       "...                                                    ...           ...   \n",
       "1673095  Turned off my limit order on RH - not trying t...  1.612186e+09   \n",
       "1673096                      Cashapp is allowing AMC sales  1.612186e+09   \n",
       "1673097                                          [removed]  1.612186e+09   \n",
       "1673098                                          [removed]  1.612186e+09   \n",
       "1673099                                          [removed]  1.612186e+09   \n",
       "\n",
       "              id    link_id  up_votes  down_votes   parent_id  score  \\\n",
       "0        glwaigi  t3_lbs0yq         1           0  t1_glvp22z      1   \n",
       "1        glwaieg  t3_lbpzn4         1           0   t3_lbpzn4      1   \n",
       "2        glwaie5  t3_lbvk4v         2           0   t3_lbvk4v      2   \n",
       "3        glwaie2  t3_lbl62i         2           0   t3_lbl62i      2   \n",
       "4        glwaido  t3_lbl62i         1           0  t1_glwa97d      1   \n",
       "...          ...        ...       ...         ...         ...    ...   \n",
       "1673095  gllfxqm  t3_la0n4z         2           0  t1_gllfq55      2   \n",
       "1673096  gllfxqa  t3_la0n4z         3           0  t1_gllfq12      3   \n",
       "1673097  gllfxq7  t3_la2t7o         1           0   t3_la2t7o      1   \n",
       "1673098  gllfxq6  t3_la09rn         1           0   t3_la09rn      1   \n",
       "1673099  gllfxnd  t3_la116k         1           0   t3_la116k      1   \n",
       "\n",
       "                                                 permalink  \\\n",
       "0        /r/wallstreetbets/comments/lbs0yq/we_should_bu...   \n",
       "1        /r/wallstreetbets/comments/lbpzn4/lets_goooo/g...   \n",
       "2        /r/wallstreetbets/comments/lbvk4v/can_only_aff...   \n",
       "3        /r/wallstreetbets/comments/lbl62i/daily_discus...   \n",
       "4        /r/wallstreetbets/comments/lbl62i/daily_discus...   \n",
       "...                                                    ...   \n",
       "1673095  /r/wallstreetbets/comments/la0n4z/daily_discus...   \n",
       "1673096  /r/wallstreetbets/comments/la0n4z/daily_discus...   \n",
       "1673097  /r/wallstreetbets/comments/la2t7o/diamond_hand...   \n",
       "1673098  /r/wallstreetbets/comments/la09rn/dont_listen_...   \n",
       "1673099  /r/wallstreetbets/comments/la116k/papa_elon_su...   \n",
       "\n",
       "         total_awards_received  controversiality  \n",
       "0                            0                 0  \n",
       "1                            0                 0  \n",
       "2                            0                 0  \n",
       "3                            0                 0  \n",
       "4                            0                 0  \n",
       "...                        ...               ...  \n",
       "1673095                      0                 0  \n",
       "1673096                      0                 0  \n",
       "1673097                      0                 0  \n",
       "1673098                      0                 0  \n",
       "1673099                      0                 0  \n",
       "\n",
       "[1673100 rows x 13 columns]"
      ],
      "text/html": "<div>\n<style scoped>\n    .dataframe tbody tr th:only-of-type {\n        vertical-align: middle;\n    }\n\n    .dataframe tbody tr th {\n        vertical-align: top;\n    }\n\n    .dataframe thead th {\n        text-align: right;\n    }\n</style>\n<table border=\"1\" class=\"dataframe\">\n  <thead>\n    <tr style=\"text-align: right;\">\n      <th></th>\n      <th>Unnamed: 0</th>\n      <th>author</th>\n      <th>body</th>\n      <th>created</th>\n      <th>id</th>\n      <th>link_id</th>\n      <th>up_votes</th>\n      <th>down_votes</th>\n      <th>parent_id</th>\n      <th>score</th>\n      <th>permalink</th>\n      <th>total_awards_received</th>\n      <th>controversiality</th>\n    </tr>\n  </thead>\n  <tbody>\n    <tr>\n      <th>0</th>\n      <td>0</td>\n      <td>NaN</td>\n      <td>[removed]</td>\n      <td>1.612380e+09</td>\n      <td>glwaigi</td>\n      <td>t3_lbs0yq</td>\n      <td>1</td>\n      <td>0</td>\n      <td>t1_glvp22z</td>\n      <td>1</td>\n      <td>/r/wallstreetbets/comments/lbs0yq/we_should_bu...</td>\n      <td>0</td>\n      <td>0</td>\n    </tr>\n    <tr>\n      <th>1</th>\n      <td>1</td>\n      <td>NaN</td>\n      <td>[removed]</td>\n      <td>1.612380e+09</td>\n      <td>glwaieg</td>\n      <td>t3_lbpzn4</td>\n      <td>1</td>\n      <td>0</td>\n      <td>t3_lbpzn4</td>\n      <td>1</td>\n      <td>/r/wallstreetbets/comments/lbpzn4/lets_goooo/g...</td>\n      <td>0</td>\n      <td>0</td>\n    </tr>\n    <tr>\n      <th>2</th>\n      <td>2</td>\n      <td>NaN</td>\n      <td>[removed]</td>\n      <td>1.612380e+09</td>\n      <td>glwaie5</td>\n      <td>t3_lbvk4v</td>\n      <td>2</td>\n      <td>0</td>\n      <td>t3_lbvk4v</td>\n      <td>2</td>\n      <td>/r/wallstreetbets/comments/lbvk4v/can_only_aff...</td>\n      <td>0</td>\n      <td>0</td>\n    </tr>\n    <tr>\n      <th>3</th>\n      <td>3</td>\n      <td>standardalias</td>\n      <td>IV is not tooooo retarded for the ETSY 2/26 $2...</td>\n      <td>1.612380e+09</td>\n      <td>glwaie2</td>\n      <td>t3_lbl62i</td>\n      <td>2</td>\n      <td>0</td>\n      <td>t3_lbl62i</td>\n      <td>2</td>\n      <td>/r/wallstreetbets/comments/lbl62i/daily_discus...</td>\n      <td>0</td>\n      <td>0</td>\n    </tr>\n    <tr>\n      <th>4</th>\n      <td>4</td>\n      <td>felipesizzosmoes</td>\n      <td>you're a fuckin amateur if you're getting moun...</td>\n      <td>1.612380e+09</td>\n      <td>glwaido</td>\n      <td>t3_lbl62i</td>\n      <td>1</td>\n      <td>0</td>\n      <td>t1_glwa97d</td>\n      <td>1</td>\n      <td>/r/wallstreetbets/comments/lbl62i/daily_discus...</td>\n      <td>0</td>\n      <td>0</td>\n    </tr>\n    <tr>\n      <th>...</th>\n      <td>...</td>\n      <td>...</td>\n      <td>...</td>\n      <td>...</td>\n      <td>...</td>\n      <td>...</td>\n      <td>...</td>\n      <td>...</td>\n      <td>...</td>\n      <td>...</td>\n      <td>...</td>\n      <td>...</td>\n      <td>...</td>\n    </tr>\n    <tr>\n      <th>1673095</th>\n      <td>1673095</td>\n      <td>snacksandmetal</td>\n      <td>Turned off my limit order on RH - not trying t...</td>\n      <td>1.612186e+09</td>\n      <td>gllfxqm</td>\n      <td>t3_la0n4z</td>\n      <td>2</td>\n      <td>0</td>\n      <td>t1_gllfq55</td>\n      <td>2</td>\n      <td>/r/wallstreetbets/comments/la0n4z/daily_discus...</td>\n      <td>0</td>\n      <td>0</td>\n    </tr>\n    <tr>\n      <th>1673096</th>\n      <td>1673096</td>\n      <td>ohhailsatan</td>\n      <td>Cashapp is allowing AMC sales</td>\n      <td>1.612186e+09</td>\n      <td>gllfxqa</td>\n      <td>t3_la0n4z</td>\n      <td>3</td>\n      <td>0</td>\n      <td>t1_gllfq12</td>\n      <td>3</td>\n      <td>/r/wallstreetbets/comments/la0n4z/daily_discus...</td>\n      <td>0</td>\n      <td>0</td>\n    </tr>\n    <tr>\n      <th>1673097</th>\n      <td>1673097</td>\n      <td>NaN</td>\n      <td>[removed]</td>\n      <td>1.612186e+09</td>\n      <td>gllfxq7</td>\n      <td>t3_la2t7o</td>\n      <td>1</td>\n      <td>0</td>\n      <td>t3_la2t7o</td>\n      <td>1</td>\n      <td>/r/wallstreetbets/comments/la2t7o/diamond_hand...</td>\n      <td>0</td>\n      <td>0</td>\n    </tr>\n    <tr>\n      <th>1673098</th>\n      <td>1673098</td>\n      <td>NaN</td>\n      <td>[removed]</td>\n      <td>1.612186e+09</td>\n      <td>gllfxq6</td>\n      <td>t3_la09rn</td>\n      <td>1</td>\n      <td>0</td>\n      <td>t3_la09rn</td>\n      <td>1</td>\n      <td>/r/wallstreetbets/comments/la09rn/dont_listen_...</td>\n      <td>0</td>\n      <td>0</td>\n    </tr>\n    <tr>\n      <th>1673099</th>\n      <td>1673099</td>\n      <td>NaN</td>\n      <td>[removed]</td>\n      <td>1.612186e+09</td>\n      <td>gllfxnd</td>\n      <td>t3_la116k</td>\n      <td>1</td>\n      <td>0</td>\n      <td>t3_la116k</td>\n      <td>1</td>\n      <td>/r/wallstreetbets/comments/la116k/papa_elon_su...</td>\n      <td>0</td>\n      <td>0</td>\n    </tr>\n  </tbody>\n</table>\n<p>1673100 rows × 13 columns</p>\n</div>"
     },
     "metadata": {},
     "execution_count": 15
    }
   ],
   "source": [
    "data = \"Scraper/Data/comments_all.csv\"\n",
    "comments_df = pd.read_csv(data)\n",
    "comments_df"
   ]
  },
  {
   "cell_type": "code",
   "execution_count": 16,
   "metadata": {},
   "outputs": [
    {
     "output_type": "execute_result",
     "data": {
      "text/plain": [
       "Unnamed: 0                 int64\n",
       "author                    object\n",
       "body                      object\n",
       "created                  float64\n",
       "id                        object\n",
       "link_id                   object\n",
       "up_votes                   int64\n",
       "down_votes                 int64\n",
       "parent_id                 object\n",
       "score                      int64\n",
       "permalink                 object\n",
       "total_awards_received      int64\n",
       "controversiality           int64\n",
       "dtype: object"
      ]
     },
     "metadata": {},
     "execution_count": 16
    }
   ],
   "source": [
    "comments_df.dtypes"
   ]
  },
  {
   "cell_type": "code",
   "execution_count": 17,
   "metadata": {},
   "outputs": [
    {
     "output_type": "execute_result",
     "data": {
      "text/plain": [
       "          Unnamed: 0         author       body       created       id  \\\n",
       "count   1.673100e+06         838404    1673099  1.673100e+06  1673100   \n",
       "unique           NaN         201453     757294           NaN  1673100   \n",
       "top              NaN  AutoModerator  [removed]           NaN  glloojb   \n",
       "freq             NaN          24173     772248           NaN        1   \n",
       "mean    8.365495e+05            NaN        NaN  1.612266e+09      NaN   \n",
       "std     4.829825e+05            NaN        NaN  5.499663e+04      NaN   \n",
       "min     0.000000e+00            NaN        NaN  1.612186e+09      NaN   \n",
       "25%     4.182748e+05            NaN        NaN  1.612213e+09      NaN   \n",
       "50%     8.365495e+05            NaN        NaN  1.612275e+09      NaN   \n",
       "75%     1.254824e+06            NaN        NaN  1.612303e+09      NaN   \n",
       "max     1.673099e+06            NaN        NaN  1.612380e+09      NaN   \n",
       "\n",
       "          link_id      up_votes  down_votes  parent_id         score  \\\n",
       "count     1673100  1.673100e+06   1673100.0    1673100  1.673100e+06   \n",
       "unique      40533           NaN         NaN     368613           NaN   \n",
       "top     t3_ladzdt           NaN         NaN  t3_ladzdt           NaN   \n",
       "freq        98886           NaN         NaN      40465           NaN   \n",
       "mean          NaN  9.312415e+00         0.0        NaN  9.312415e+00   \n",
       "std           NaN  1.613531e+02         0.0        NaN  1.613531e+02   \n",
       "min           NaN -1.272000e+03         0.0        NaN -1.272000e+03   \n",
       "25%           NaN  1.000000e+00         0.0        NaN  1.000000e+00   \n",
       "50%           NaN  1.000000e+00         0.0        NaN  1.000000e+00   \n",
       "75%           NaN  3.000000e+00         0.0        NaN  3.000000e+00   \n",
       "max           NaN  7.129700e+04         0.0        NaN  7.129700e+04   \n",
       "\n",
       "                                                permalink  \\\n",
       "count                                             1673100   \n",
       "unique                                            1673100   \n",
       "top     /r/wallstreetbets/comments/lbl62i/daily_discus...   \n",
       "freq                                                    1   \n",
       "mean                                                  NaN   \n",
       "std                                                   NaN   \n",
       "min                                                   NaN   \n",
       "25%                                                   NaN   \n",
       "50%                                                   NaN   \n",
       "75%                                                   NaN   \n",
       "max                                                   NaN   \n",
       "\n",
       "        total_awards_received  controversiality  \n",
       "count            1.673100e+06      1.673100e+06  \n",
       "unique                    NaN               NaN  \n",
       "top                       NaN               NaN  \n",
       "freq                      NaN               NaN  \n",
       "mean             8.386229e-03      1.628892e-02  \n",
       "std              4.044457e-01      1.265844e-01  \n",
       "min              0.000000e+00      0.000000e+00  \n",
       "25%              0.000000e+00      0.000000e+00  \n",
       "50%              0.000000e+00      0.000000e+00  \n",
       "75%              0.000000e+00      0.000000e+00  \n",
       "max              4.120000e+02      1.000000e+00  "
      ],
      "text/html": "<div>\n<style scoped>\n    .dataframe tbody tr th:only-of-type {\n        vertical-align: middle;\n    }\n\n    .dataframe tbody tr th {\n        vertical-align: top;\n    }\n\n    .dataframe thead th {\n        text-align: right;\n    }\n</style>\n<table border=\"1\" class=\"dataframe\">\n  <thead>\n    <tr style=\"text-align: right;\">\n      <th></th>\n      <th>Unnamed: 0</th>\n      <th>author</th>\n      <th>body</th>\n      <th>created</th>\n      <th>id</th>\n      <th>link_id</th>\n      <th>up_votes</th>\n      <th>down_votes</th>\n      <th>parent_id</th>\n      <th>score</th>\n      <th>permalink</th>\n      <th>total_awards_received</th>\n      <th>controversiality</th>\n    </tr>\n  </thead>\n  <tbody>\n    <tr>\n      <th>count</th>\n      <td>1.673100e+06</td>\n      <td>838404</td>\n      <td>1673099</td>\n      <td>1.673100e+06</td>\n      <td>1673100</td>\n      <td>1673100</td>\n      <td>1.673100e+06</td>\n      <td>1673100.0</td>\n      <td>1673100</td>\n      <td>1.673100e+06</td>\n      <td>1673100</td>\n      <td>1.673100e+06</td>\n      <td>1.673100e+06</td>\n    </tr>\n    <tr>\n      <th>unique</th>\n      <td>NaN</td>\n      <td>201453</td>\n      <td>757294</td>\n      <td>NaN</td>\n      <td>1673100</td>\n      <td>40533</td>\n      <td>NaN</td>\n      <td>NaN</td>\n      <td>368613</td>\n      <td>NaN</td>\n      <td>1673100</td>\n      <td>NaN</td>\n      <td>NaN</td>\n    </tr>\n    <tr>\n      <th>top</th>\n      <td>NaN</td>\n      <td>AutoModerator</td>\n      <td>[removed]</td>\n      <td>NaN</td>\n      <td>glloojb</td>\n      <td>t3_ladzdt</td>\n      <td>NaN</td>\n      <td>NaN</td>\n      <td>t3_ladzdt</td>\n      <td>NaN</td>\n      <td>/r/wallstreetbets/comments/lbl62i/daily_discus...</td>\n      <td>NaN</td>\n      <td>NaN</td>\n    </tr>\n    <tr>\n      <th>freq</th>\n      <td>NaN</td>\n      <td>24173</td>\n      <td>772248</td>\n      <td>NaN</td>\n      <td>1</td>\n      <td>98886</td>\n      <td>NaN</td>\n      <td>NaN</td>\n      <td>40465</td>\n      <td>NaN</td>\n      <td>1</td>\n      <td>NaN</td>\n      <td>NaN</td>\n    </tr>\n    <tr>\n      <th>mean</th>\n      <td>8.365495e+05</td>\n      <td>NaN</td>\n      <td>NaN</td>\n      <td>1.612266e+09</td>\n      <td>NaN</td>\n      <td>NaN</td>\n      <td>9.312415e+00</td>\n      <td>0.0</td>\n      <td>NaN</td>\n      <td>9.312415e+00</td>\n      <td>NaN</td>\n      <td>8.386229e-03</td>\n      <td>1.628892e-02</td>\n    </tr>\n    <tr>\n      <th>std</th>\n      <td>4.829825e+05</td>\n      <td>NaN</td>\n      <td>NaN</td>\n      <td>5.499663e+04</td>\n      <td>NaN</td>\n      <td>NaN</td>\n      <td>1.613531e+02</td>\n      <td>0.0</td>\n      <td>NaN</td>\n      <td>1.613531e+02</td>\n      <td>NaN</td>\n      <td>4.044457e-01</td>\n      <td>1.265844e-01</td>\n    </tr>\n    <tr>\n      <th>min</th>\n      <td>0.000000e+00</td>\n      <td>NaN</td>\n      <td>NaN</td>\n      <td>1.612186e+09</td>\n      <td>NaN</td>\n      <td>NaN</td>\n      <td>-1.272000e+03</td>\n      <td>0.0</td>\n      <td>NaN</td>\n      <td>-1.272000e+03</td>\n      <td>NaN</td>\n      <td>0.000000e+00</td>\n      <td>0.000000e+00</td>\n    </tr>\n    <tr>\n      <th>25%</th>\n      <td>4.182748e+05</td>\n      <td>NaN</td>\n      <td>NaN</td>\n      <td>1.612213e+09</td>\n      <td>NaN</td>\n      <td>NaN</td>\n      <td>1.000000e+00</td>\n      <td>0.0</td>\n      <td>NaN</td>\n      <td>1.000000e+00</td>\n      <td>NaN</td>\n      <td>0.000000e+00</td>\n      <td>0.000000e+00</td>\n    </tr>\n    <tr>\n      <th>50%</th>\n      <td>8.365495e+05</td>\n      <td>NaN</td>\n      <td>NaN</td>\n      <td>1.612275e+09</td>\n      <td>NaN</td>\n      <td>NaN</td>\n      <td>1.000000e+00</td>\n      <td>0.0</td>\n      <td>NaN</td>\n      <td>1.000000e+00</td>\n      <td>NaN</td>\n      <td>0.000000e+00</td>\n      <td>0.000000e+00</td>\n    </tr>\n    <tr>\n      <th>75%</th>\n      <td>1.254824e+06</td>\n      <td>NaN</td>\n      <td>NaN</td>\n      <td>1.612303e+09</td>\n      <td>NaN</td>\n      <td>NaN</td>\n      <td>3.000000e+00</td>\n      <td>0.0</td>\n      <td>NaN</td>\n      <td>3.000000e+00</td>\n      <td>NaN</td>\n      <td>0.000000e+00</td>\n      <td>0.000000e+00</td>\n    </tr>\n    <tr>\n      <th>max</th>\n      <td>1.673099e+06</td>\n      <td>NaN</td>\n      <td>NaN</td>\n      <td>1.612380e+09</td>\n      <td>NaN</td>\n      <td>NaN</td>\n      <td>7.129700e+04</td>\n      <td>0.0</td>\n      <td>NaN</td>\n      <td>7.129700e+04</td>\n      <td>NaN</td>\n      <td>4.120000e+02</td>\n      <td>1.000000e+00</td>\n    </tr>\n  </tbody>\n</table>\n</div>"
     },
     "metadata": {},
     "execution_count": 17
    }
   ],
   "source": [
    "comments_df.describe(include='all')"
   ]
  },
  {
   "cell_type": "code",
   "execution_count": 18,
   "metadata": {},
   "outputs": [
    {
     "output_type": "execute_result",
     "data": {
      "text/plain": [
       "0"
      ]
     },
     "metadata": {},
     "execution_count": 18
    }
   ],
   "source": [
    "comments_df.duplicated().sum()"
   ]
  },
  {
   "cell_type": "code",
   "execution_count": 19,
   "metadata": {},
   "outputs": [
    {
     "output_type": "execute_result",
     "data": {
      "text/plain": [
       "Unnamed: 0                    0\n",
       "author                   834696\n",
       "body                          1\n",
       "created                       0\n",
       "id                            0\n",
       "link_id                       0\n",
       "up_votes                      0\n",
       "down_votes                    0\n",
       "parent_id                     0\n",
       "score                         0\n",
       "permalink                     0\n",
       "total_awards_received         0\n",
       "controversiality              0\n",
       "dtype: int64"
      ]
     },
     "metadata": {},
     "execution_count": 19
    }
   ],
   "source": [
    "comments_df.isna().sum()"
   ]
  },
  {
   "cell_type": "code",
   "execution_count": 21,
   "metadata": {},
   "outputs": [
    {
     "output_type": "execute_result",
     "data": {
      "text/plain": [
       "         Unnamed: 0             author  \\\n",
       "3                 3      standardalias   \n",
       "4                 4   felipesizzosmoes   \n",
       "8                 8  MyOtherDogsMyWife   \n",
       "13               13      freemoney4809   \n",
       "22               22   dead-man-lifting   \n",
       "...             ...                ...   \n",
       "1673086     1673086           Kotoriii   \n",
       "1673087     1673087         DangersWen   \n",
       "1673093     1673093         Atlas_sbel   \n",
       "1673095     1673095     snacksandmetal   \n",
       "1673096     1673096        ohhailsatan   \n",
       "\n",
       "                                                      body       created  \\\n",
       "3        IV is not tooooo retarded for the ETSY 2/26 $2...  1.612380e+09   \n",
       "4        you're a fuckin amateur if you're getting moun...  1.612380e+09   \n",
       "8                                                    Don't  1.612380e+09   \n",
       "13       anyone go grab u/ThePeoplesBard yet? haven't s...  1.612380e+09   \n",
       "22       ...I made $1000. Could have been 40k, but is w...  1.612380e+09   \n",
       "...                                                    ...           ...   \n",
       "1673086                       No no, sir, I am the janitor  1.612186e+09   \n",
       "1673087  It is sad too see their lazy writing using the...  1.612186e+09   \n",
       "1673093                              FAIR ENOUGH LT RETARD  1.612186e+09   \n",
       "1673095  Turned off my limit order on RH - not trying t...  1.612186e+09   \n",
       "1673096                      Cashapp is allowing AMC sales  1.612186e+09   \n",
       "\n",
       "              id    link_id  up_votes  down_votes   parent_id  score  \\\n",
       "3        glwaie2  t3_lbl62i         2           0   t3_lbl62i      2   \n",
       "4        glwaido  t3_lbl62i         1           0  t1_glwa97d      1   \n",
       "8        glwaiaj  t3_lbl62i         1           0  t1_glwa3r4      1   \n",
       "13       glwai8j  t3_lbl65s         5           0   t3_lbl65s      5   \n",
       "22       glwai4b  t3_lbsae4         7           0  t1_glwa1hw      7   \n",
       "...          ...        ...       ...         ...         ...    ...   \n",
       "1673086  gllfxtr  t3_l9xqem         3           0  t1_gll2zfl      3   \n",
       "1673087  gllfxtq  t3_la1g43       140           0   t3_la1g43    140   \n",
       "1673093  gllfxrs  t3_l9wner         1           0  t1_gllfpxr      1   \n",
       "1673095  gllfxqm  t3_la0n4z         2           0  t1_gllfq55      2   \n",
       "1673096  gllfxqa  t3_la0n4z         3           0  t1_gllfq12      3   \n",
       "\n",
       "                                                 permalink  \\\n",
       "3        /r/wallstreetbets/comments/lbl62i/daily_discus...   \n",
       "4        /r/wallstreetbets/comments/lbl62i/daily_discus...   \n",
       "8        /r/wallstreetbets/comments/lbl62i/daily_discus...   \n",
       "13       /r/wallstreetbets/comments/lbl65s/unpinned_dai...   \n",
       "22       /r/wallstreetbets/comments/lbsae4/gme_and_what...   \n",
       "...                                                    ...   \n",
       "1673086  /r/wallstreetbets/comments/l9xqem/gme_discussi...   \n",
       "1673087  /r/wallstreetbets/comments/la1g43/the_aggressi...   \n",
       "1673093  /r/wallstreetbets/comments/l9wner/what_are_you...   \n",
       "1673095  /r/wallstreetbets/comments/la0n4z/daily_discus...   \n",
       "1673096  /r/wallstreetbets/comments/la0n4z/daily_discus...   \n",
       "\n",
       "         total_awards_received  controversiality  \n",
       "3                            0                 0  \n",
       "4                            0                 0  \n",
       "8                            0                 0  \n",
       "13                           0                 0  \n",
       "22                           0                 0  \n",
       "...                        ...               ...  \n",
       "1673086                      0                 0  \n",
       "1673087                      0                 0  \n",
       "1673093                      0                 0  \n",
       "1673095                      0                 0  \n",
       "1673096                      0                 0  \n",
       "\n",
       "[838403 rows x 13 columns]"
      ],
      "text/html": "<div>\n<style scoped>\n    .dataframe tbody tr th:only-of-type {\n        vertical-align: middle;\n    }\n\n    .dataframe tbody tr th {\n        vertical-align: top;\n    }\n\n    .dataframe thead th {\n        text-align: right;\n    }\n</style>\n<table border=\"1\" class=\"dataframe\">\n  <thead>\n    <tr style=\"text-align: right;\">\n      <th></th>\n      <th>Unnamed: 0</th>\n      <th>author</th>\n      <th>body</th>\n      <th>created</th>\n      <th>id</th>\n      <th>link_id</th>\n      <th>up_votes</th>\n      <th>down_votes</th>\n      <th>parent_id</th>\n      <th>score</th>\n      <th>permalink</th>\n      <th>total_awards_received</th>\n      <th>controversiality</th>\n    </tr>\n  </thead>\n  <tbody>\n    <tr>\n      <th>3</th>\n      <td>3</td>\n      <td>standardalias</td>\n      <td>IV is not tooooo retarded for the ETSY 2/26 $2...</td>\n      <td>1.612380e+09</td>\n      <td>glwaie2</td>\n      <td>t3_lbl62i</td>\n      <td>2</td>\n      <td>0</td>\n      <td>t3_lbl62i</td>\n      <td>2</td>\n      <td>/r/wallstreetbets/comments/lbl62i/daily_discus...</td>\n      <td>0</td>\n      <td>0</td>\n    </tr>\n    <tr>\n      <th>4</th>\n      <td>4</td>\n      <td>felipesizzosmoes</td>\n      <td>you're a fuckin amateur if you're getting moun...</td>\n      <td>1.612380e+09</td>\n      <td>glwaido</td>\n      <td>t3_lbl62i</td>\n      <td>1</td>\n      <td>0</td>\n      <td>t1_glwa97d</td>\n      <td>1</td>\n      <td>/r/wallstreetbets/comments/lbl62i/daily_discus...</td>\n      <td>0</td>\n      <td>0</td>\n    </tr>\n    <tr>\n      <th>8</th>\n      <td>8</td>\n      <td>MyOtherDogsMyWife</td>\n      <td>Don't</td>\n      <td>1.612380e+09</td>\n      <td>glwaiaj</td>\n      <td>t3_lbl62i</td>\n      <td>1</td>\n      <td>0</td>\n      <td>t1_glwa3r4</td>\n      <td>1</td>\n      <td>/r/wallstreetbets/comments/lbl62i/daily_discus...</td>\n      <td>0</td>\n      <td>0</td>\n    </tr>\n    <tr>\n      <th>13</th>\n      <td>13</td>\n      <td>freemoney4809</td>\n      <td>anyone go grab u/ThePeoplesBard yet? haven't s...</td>\n      <td>1.612380e+09</td>\n      <td>glwai8j</td>\n      <td>t3_lbl65s</td>\n      <td>5</td>\n      <td>0</td>\n      <td>t3_lbl65s</td>\n      <td>5</td>\n      <td>/r/wallstreetbets/comments/lbl65s/unpinned_dai...</td>\n      <td>0</td>\n      <td>0</td>\n    </tr>\n    <tr>\n      <th>22</th>\n      <td>22</td>\n      <td>dead-man-lifting</td>\n      <td>...I made $1000. Could have been 40k, but is w...</td>\n      <td>1.612380e+09</td>\n      <td>glwai4b</td>\n      <td>t3_lbsae4</td>\n      <td>7</td>\n      <td>0</td>\n      <td>t1_glwa1hw</td>\n      <td>7</td>\n      <td>/r/wallstreetbets/comments/lbsae4/gme_and_what...</td>\n      <td>0</td>\n      <td>0</td>\n    </tr>\n    <tr>\n      <th>...</th>\n      <td>...</td>\n      <td>...</td>\n      <td>...</td>\n      <td>...</td>\n      <td>...</td>\n      <td>...</td>\n      <td>...</td>\n      <td>...</td>\n      <td>...</td>\n      <td>...</td>\n      <td>...</td>\n      <td>...</td>\n      <td>...</td>\n    </tr>\n    <tr>\n      <th>1673086</th>\n      <td>1673086</td>\n      <td>Kotoriii</td>\n      <td>No no, sir, I am the janitor</td>\n      <td>1.612186e+09</td>\n      <td>gllfxtr</td>\n      <td>t3_l9xqem</td>\n      <td>3</td>\n      <td>0</td>\n      <td>t1_gll2zfl</td>\n      <td>3</td>\n      <td>/r/wallstreetbets/comments/l9xqem/gme_discussi...</td>\n      <td>0</td>\n      <td>0</td>\n    </tr>\n    <tr>\n      <th>1673087</th>\n      <td>1673087</td>\n      <td>DangersWen</td>\n      <td>It is sad too see their lazy writing using the...</td>\n      <td>1.612186e+09</td>\n      <td>gllfxtq</td>\n      <td>t3_la1g43</td>\n      <td>140</td>\n      <td>0</td>\n      <td>t3_la1g43</td>\n      <td>140</td>\n      <td>/r/wallstreetbets/comments/la1g43/the_aggressi...</td>\n      <td>0</td>\n      <td>0</td>\n    </tr>\n    <tr>\n      <th>1673093</th>\n      <td>1673093</td>\n      <td>Atlas_sbel</td>\n      <td>FAIR ENOUGH LT RETARD</td>\n      <td>1.612186e+09</td>\n      <td>gllfxrs</td>\n      <td>t3_l9wner</td>\n      <td>1</td>\n      <td>0</td>\n      <td>t1_gllfpxr</td>\n      <td>1</td>\n      <td>/r/wallstreetbets/comments/l9wner/what_are_you...</td>\n      <td>0</td>\n      <td>0</td>\n    </tr>\n    <tr>\n      <th>1673095</th>\n      <td>1673095</td>\n      <td>snacksandmetal</td>\n      <td>Turned off my limit order on RH - not trying t...</td>\n      <td>1.612186e+09</td>\n      <td>gllfxqm</td>\n      <td>t3_la0n4z</td>\n      <td>2</td>\n      <td>0</td>\n      <td>t1_gllfq55</td>\n      <td>2</td>\n      <td>/r/wallstreetbets/comments/la0n4z/daily_discus...</td>\n      <td>0</td>\n      <td>0</td>\n    </tr>\n    <tr>\n      <th>1673096</th>\n      <td>1673096</td>\n      <td>ohhailsatan</td>\n      <td>Cashapp is allowing AMC sales</td>\n      <td>1.612186e+09</td>\n      <td>gllfxqa</td>\n      <td>t3_la0n4z</td>\n      <td>3</td>\n      <td>0</td>\n      <td>t1_gllfq12</td>\n      <td>3</td>\n      <td>/r/wallstreetbets/comments/la0n4z/daily_discus...</td>\n      <td>0</td>\n      <td>0</td>\n    </tr>\n  </tbody>\n</table>\n<p>838403 rows × 13 columns</p>\n</div>"
     },
     "metadata": {},
     "execution_count": 21
    }
   ],
   "source": [
    "comments_df = comments_df.dropna()\n",
    "comments_df"
   ]
  },
  {
   "cell_type": "code",
   "execution_count": 23,
   "metadata": {},
   "outputs": [],
   "source": [
    "comments_df[\"date_created\"] = pd.to_datetime(comments_df[\"created\"], unit='s') "
   ]
  },
  {
   "cell_type": "code",
   "execution_count": 25,
   "metadata": {},
   "outputs": [
    {
     "output_type": "execute_result",
     "data": {
      "text/plain": [
       "         Unnamed: 0             author  \\\n",
       "1673096     1673096        ohhailsatan   \n",
       "1673095     1673095     snacksandmetal   \n",
       "1673087     1673087         DangersWen   \n",
       "1673093     1673093         Atlas_sbel   \n",
       "1673086     1673086           Kotoriii   \n",
       "...             ...                ...   \n",
       "22               22   dead-man-lifting   \n",
       "13               13      freemoney4809   \n",
       "8                 8  MyOtherDogsMyWife   \n",
       "4                 4   felipesizzosmoes   \n",
       "3                 3      standardalias   \n",
       "\n",
       "                                                      body       created  \\\n",
       "1673096                      Cashapp is allowing AMC sales  1.612186e+09   \n",
       "1673095  Turned off my limit order on RH - not trying t...  1.612186e+09   \n",
       "1673087  It is sad too see their lazy writing using the...  1.612186e+09   \n",
       "1673093                              FAIR ENOUGH LT RETARD  1.612186e+09   \n",
       "1673086                       No no, sir, I am the janitor  1.612186e+09   \n",
       "...                                                    ...           ...   \n",
       "22       ...I made $1000. Could have been 40k, but is w...  1.612380e+09   \n",
       "13       anyone go grab u/ThePeoplesBard yet? haven't s...  1.612380e+09   \n",
       "8                                                    Don't  1.612380e+09   \n",
       "4        you're a fuckin amateur if you're getting moun...  1.612380e+09   \n",
       "3        IV is not tooooo retarded for the ETSY 2/26 $2...  1.612380e+09   \n",
       "\n",
       "              id    link_id  up_votes  down_votes   parent_id  score  \\\n",
       "1673096  gllfxqa  t3_la0n4z         3           0  t1_gllfq12      3   \n",
       "1673095  gllfxqm  t3_la0n4z         2           0  t1_gllfq55      2   \n",
       "1673087  gllfxtq  t3_la1g43       140           0   t3_la1g43    140   \n",
       "1673093  gllfxrs  t3_l9wner         1           0  t1_gllfpxr      1   \n",
       "1673086  gllfxtr  t3_l9xqem         3           0  t1_gll2zfl      3   \n",
       "...          ...        ...       ...         ...         ...    ...   \n",
       "22       glwai4b  t3_lbsae4         7           0  t1_glwa1hw      7   \n",
       "13       glwai8j  t3_lbl65s         5           0   t3_lbl65s      5   \n",
       "8        glwaiaj  t3_lbl62i         1           0  t1_glwa3r4      1   \n",
       "4        glwaido  t3_lbl62i         1           0  t1_glwa97d      1   \n",
       "3        glwaie2  t3_lbl62i         2           0   t3_lbl62i      2   \n",
       "\n",
       "                                                 permalink  \\\n",
       "1673096  /r/wallstreetbets/comments/la0n4z/daily_discus...   \n",
       "1673095  /r/wallstreetbets/comments/la0n4z/daily_discus...   \n",
       "1673087  /r/wallstreetbets/comments/la1g43/the_aggressi...   \n",
       "1673093  /r/wallstreetbets/comments/l9wner/what_are_you...   \n",
       "1673086  /r/wallstreetbets/comments/l9xqem/gme_discussi...   \n",
       "...                                                    ...   \n",
       "22       /r/wallstreetbets/comments/lbsae4/gme_and_what...   \n",
       "13       /r/wallstreetbets/comments/lbl65s/unpinned_dai...   \n",
       "8        /r/wallstreetbets/comments/lbl62i/daily_discus...   \n",
       "4        /r/wallstreetbets/comments/lbl62i/daily_discus...   \n",
       "3        /r/wallstreetbets/comments/lbl62i/daily_discus...   \n",
       "\n",
       "         total_awards_received  controversiality        date_created  \n",
       "1673096                      0                 0 2021-02-01 13:23:03  \n",
       "1673095                      0                 0 2021-02-01 13:23:03  \n",
       "1673087                      0                 0 2021-02-01 13:23:04  \n",
       "1673093                      0                 0 2021-02-01 13:23:04  \n",
       "1673086                      0                 0 2021-02-01 13:23:04  \n",
       "...                        ...               ...                 ...  \n",
       "22                           0                 0 2021-02-03 19:17:48  \n",
       "13                           0                 0 2021-02-03 19:17:49  \n",
       "8                            0                 0 2021-02-03 19:17:50  \n",
       "4                            0                 0 2021-02-03 19:17:51  \n",
       "3                            0                 0 2021-02-03 19:17:51  \n",
       "\n",
       "[838403 rows x 14 columns]"
      ],
      "text/html": "<div>\n<style scoped>\n    .dataframe tbody tr th:only-of-type {\n        vertical-align: middle;\n    }\n\n    .dataframe tbody tr th {\n        vertical-align: top;\n    }\n\n    .dataframe thead th {\n        text-align: right;\n    }\n</style>\n<table border=\"1\" class=\"dataframe\">\n  <thead>\n    <tr style=\"text-align: right;\">\n      <th></th>\n      <th>Unnamed: 0</th>\n      <th>author</th>\n      <th>body</th>\n      <th>created</th>\n      <th>id</th>\n      <th>link_id</th>\n      <th>up_votes</th>\n      <th>down_votes</th>\n      <th>parent_id</th>\n      <th>score</th>\n      <th>permalink</th>\n      <th>total_awards_received</th>\n      <th>controversiality</th>\n      <th>date_created</th>\n    </tr>\n  </thead>\n  <tbody>\n    <tr>\n      <th>1673096</th>\n      <td>1673096</td>\n      <td>ohhailsatan</td>\n      <td>Cashapp is allowing AMC sales</td>\n      <td>1.612186e+09</td>\n      <td>gllfxqa</td>\n      <td>t3_la0n4z</td>\n      <td>3</td>\n      <td>0</td>\n      <td>t1_gllfq12</td>\n      <td>3</td>\n      <td>/r/wallstreetbets/comments/la0n4z/daily_discus...</td>\n      <td>0</td>\n      <td>0</td>\n      <td>2021-02-01 13:23:03</td>\n    </tr>\n    <tr>\n      <th>1673095</th>\n      <td>1673095</td>\n      <td>snacksandmetal</td>\n      <td>Turned off my limit order on RH - not trying t...</td>\n      <td>1.612186e+09</td>\n      <td>gllfxqm</td>\n      <td>t3_la0n4z</td>\n      <td>2</td>\n      <td>0</td>\n      <td>t1_gllfq55</td>\n      <td>2</td>\n      <td>/r/wallstreetbets/comments/la0n4z/daily_discus...</td>\n      <td>0</td>\n      <td>0</td>\n      <td>2021-02-01 13:23:03</td>\n    </tr>\n    <tr>\n      <th>1673087</th>\n      <td>1673087</td>\n      <td>DangersWen</td>\n      <td>It is sad too see their lazy writing using the...</td>\n      <td>1.612186e+09</td>\n      <td>gllfxtq</td>\n      <td>t3_la1g43</td>\n      <td>140</td>\n      <td>0</td>\n      <td>t3_la1g43</td>\n      <td>140</td>\n      <td>/r/wallstreetbets/comments/la1g43/the_aggressi...</td>\n      <td>0</td>\n      <td>0</td>\n      <td>2021-02-01 13:23:04</td>\n    </tr>\n    <tr>\n      <th>1673093</th>\n      <td>1673093</td>\n      <td>Atlas_sbel</td>\n      <td>FAIR ENOUGH LT RETARD</td>\n      <td>1.612186e+09</td>\n      <td>gllfxrs</td>\n      <td>t3_l9wner</td>\n      <td>1</td>\n      <td>0</td>\n      <td>t1_gllfpxr</td>\n      <td>1</td>\n      <td>/r/wallstreetbets/comments/l9wner/what_are_you...</td>\n      <td>0</td>\n      <td>0</td>\n      <td>2021-02-01 13:23:04</td>\n    </tr>\n    <tr>\n      <th>1673086</th>\n      <td>1673086</td>\n      <td>Kotoriii</td>\n      <td>No no, sir, I am the janitor</td>\n      <td>1.612186e+09</td>\n      <td>gllfxtr</td>\n      <td>t3_l9xqem</td>\n      <td>3</td>\n      <td>0</td>\n      <td>t1_gll2zfl</td>\n      <td>3</td>\n      <td>/r/wallstreetbets/comments/l9xqem/gme_discussi...</td>\n      <td>0</td>\n      <td>0</td>\n      <td>2021-02-01 13:23:04</td>\n    </tr>\n    <tr>\n      <th>...</th>\n      <td>...</td>\n      <td>...</td>\n      <td>...</td>\n      <td>...</td>\n      <td>...</td>\n      <td>...</td>\n      <td>...</td>\n      <td>...</td>\n      <td>...</td>\n      <td>...</td>\n      <td>...</td>\n      <td>...</td>\n      <td>...</td>\n      <td>...</td>\n    </tr>\n    <tr>\n      <th>22</th>\n      <td>22</td>\n      <td>dead-man-lifting</td>\n      <td>...I made $1000. Could have been 40k, but is w...</td>\n      <td>1.612380e+09</td>\n      <td>glwai4b</td>\n      <td>t3_lbsae4</td>\n      <td>7</td>\n      <td>0</td>\n      <td>t1_glwa1hw</td>\n      <td>7</td>\n      <td>/r/wallstreetbets/comments/lbsae4/gme_and_what...</td>\n      <td>0</td>\n      <td>0</td>\n      <td>2021-02-03 19:17:48</td>\n    </tr>\n    <tr>\n      <th>13</th>\n      <td>13</td>\n      <td>freemoney4809</td>\n      <td>anyone go grab u/ThePeoplesBard yet? haven't s...</td>\n      <td>1.612380e+09</td>\n      <td>glwai8j</td>\n      <td>t3_lbl65s</td>\n      <td>5</td>\n      <td>0</td>\n      <td>t3_lbl65s</td>\n      <td>5</td>\n      <td>/r/wallstreetbets/comments/lbl65s/unpinned_dai...</td>\n      <td>0</td>\n      <td>0</td>\n      <td>2021-02-03 19:17:49</td>\n    </tr>\n    <tr>\n      <th>8</th>\n      <td>8</td>\n      <td>MyOtherDogsMyWife</td>\n      <td>Don't</td>\n      <td>1.612380e+09</td>\n      <td>glwaiaj</td>\n      <td>t3_lbl62i</td>\n      <td>1</td>\n      <td>0</td>\n      <td>t1_glwa3r4</td>\n      <td>1</td>\n      <td>/r/wallstreetbets/comments/lbl62i/daily_discus...</td>\n      <td>0</td>\n      <td>0</td>\n      <td>2021-02-03 19:17:50</td>\n    </tr>\n    <tr>\n      <th>4</th>\n      <td>4</td>\n      <td>felipesizzosmoes</td>\n      <td>you're a fuckin amateur if you're getting moun...</td>\n      <td>1.612380e+09</td>\n      <td>glwaido</td>\n      <td>t3_lbl62i</td>\n      <td>1</td>\n      <td>0</td>\n      <td>t1_glwa97d</td>\n      <td>1</td>\n      <td>/r/wallstreetbets/comments/lbl62i/daily_discus...</td>\n      <td>0</td>\n      <td>0</td>\n      <td>2021-02-03 19:17:51</td>\n    </tr>\n    <tr>\n      <th>3</th>\n      <td>3</td>\n      <td>standardalias</td>\n      <td>IV is not tooooo retarded for the ETSY 2/26 $2...</td>\n      <td>1.612380e+09</td>\n      <td>glwaie2</td>\n      <td>t3_lbl62i</td>\n      <td>2</td>\n      <td>0</td>\n      <td>t3_lbl62i</td>\n      <td>2</td>\n      <td>/r/wallstreetbets/comments/lbl62i/daily_discus...</td>\n      <td>0</td>\n      <td>0</td>\n      <td>2021-02-03 19:17:51</td>\n    </tr>\n  </tbody>\n</table>\n<p>838403 rows × 14 columns</p>\n</div>"
     },
     "metadata": {},
     "execution_count": 25
    }
   ],
   "source": [
    "comments_df.sort_values(by='created')"
   ]
  },
  {
   "cell_type": "code",
   "execution_count": null,
   "metadata": {},
   "outputs": [],
   "source": [
    "comments_df.loc([])"
   ]
  }
 ]
}