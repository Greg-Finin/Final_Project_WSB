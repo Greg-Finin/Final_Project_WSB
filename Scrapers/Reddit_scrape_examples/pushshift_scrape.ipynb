{
 "metadata": {
  "language_info": {
   "codemirror_mode": {
    "name": "ipython",
    "version": 3
   },
   "file_extension": ".py",
   "mimetype": "text/x-python",
   "name": "python",
   "nbconvert_exporter": "python",
   "pygments_lexer": "ipython3",
   "version": "3.7.9-final"
  },
  "orig_nbformat": 2,
  "kernelspec": {
   "name": "python3",
   "display_name": "Python 3",
   "language": "python"
  }
 },
 "nbformat": 4,
 "nbformat_minor": 2,
 "cells": [
  {
   "cell_type": "code",
   "execution_count": 18,
   "metadata": {},
   "outputs": [],
   "source": [
    "import praw\n",
    "from psaw import PushshiftAPI\n",
    "from datetime import datetime\n",
    "import re\n",
    "import json\n",
    "import pandas as pd"
   ]
  },
  {
   "cell_type": "code",
   "execution_count": 19,
   "metadata": {},
   "outputs": [],
   "source": [
    "reddit = praw.Reddit()"
   ]
  },
  {
   "cell_type": "code",
   "execution_count": 43,
   "metadata": {},
   "outputs": [
    {
     "output_type": "stream",
     "name": "stdout",
     "text": [
      "CPU times: user 18.2 ms, sys: 2.57 ms, total: 20.7 ms\nWall time: 1.08 s\n"
     ]
    }
   ],
   "source": [
    "%%time\n",
    "start_epoch=int(datetime(2020, 12, 31).timestamp())\n",
    "end_epoch = int(datetime(2021, 1, 1).timestamp())\n",
    "api = PushshiftAPI()\n",
    "gen = api.search_comments(subreddit='wallstreetbets', after=start_epoch, before=end_epoch)\n",
    "# gen = api.search_comments(q='AMC', subreddit='wallstreetbets', after=start_epoch)\n",
    "cache = []"
   ]
  },
  {
   "cell_type": "code",
   "execution_count": 39,
   "metadata": {},
   "outputs": [
    {
     "output_type": "stream",
     "name": "stdout",
     "text": [
      "10000\n",
      "20000\n",
      "30000\n",
      "40000\n",
      "50000\n",
      "CPU times: user 33.1 s, sys: 1.33 s, total: 34.4 s\n",
      "Wall time: 9min 23s\n"
     ]
    }
   ],
   "source": [
    "%%time\n",
    "for c in gen:\n",
    "    cache.append(c)\n",
    "    if len(cache) % 10000 == 0:\n",
    "        print(len(cache))\n",
    "        \n"
   ]
  },
  {
   "cell_type": "code",
   "execution_count": 44,
   "metadata": {},
   "outputs": [
    {
     "output_type": "stream",
     "name": "stdout",
     "text": [
      "CPU times: user 32.4 s, sys: 1.12 s, total: 33.6 s\nWall time: 8min 43s\n"
     ]
    }
   ],
   "source": [
    "%%time\n",
    "df = pd.DataFrame((thing.d_ for thing in gen))"
   ]
  },
  {
   "cell_type": "code",
   "execution_count": 45,
   "metadata": {},
   "outputs": [
    {
     "output_type": "execute_result",
     "data": {
      "text/plain": [
       "                                           all_awardings associated_award  \\\n",
       "0                                                     []             None   \n",
       "1                                                     []             None   \n",
       "2                                                     []             None   \n",
       "3                                                     []             None   \n",
       "4                                                     []             None   \n",
       "...                                                  ...              ...   \n",
       "51663  [{'award_sub_type': 'GROUP', 'award_type': 'gl...             None   \n",
       "51664                                                 []             None   \n",
       "51665                                                 []             None   \n",
       "51666                                                 []             None   \n",
       "51667                                                 []             None   \n",
       "\n",
       "               author author_flair_background_color author_flair_css_class  \\\n",
       "0               bluen                          None                   None   \n",
       "1        RamboWarFace                                                 None   \n",
       "2         polenta2025                          None                   None   \n",
       "3          RIZup18769                                                 None   \n",
       "4          I_had_corn                          None                   None   \n",
       "...               ...                           ...                    ...   \n",
       "51663      Justcorn34                                                 None   \n",
       "51664       [deleted]                                                 None   \n",
       "51665      CumFlakess                       #ff4500                   None   \n",
       "51666  OptionsAndTren                                                 None   \n",
       "51667  Rat_Fucker_Sam                          None                   None   \n",
       "\n",
       "                                   author_flair_richtext  \\\n",
       "0                                                     []   \n",
       "1      [{'e': 'text', 't': '\u001b201027:3:1:More like Man...   \n",
       "2                                                     []   \n",
       "3            [{'e': 'text', 't': '🌹 up and eat my ass'}]   \n",
       "4                                                     []   \n",
       "...                                                  ...   \n",
       "51663                                                 []   \n",
       "51664                                                NaN   \n",
       "51665                       [{'e': 'text', 't': 'FTFY'}]   \n",
       "51666  [{'e': 'text', 't': 'His retardation is infect...   \n",
       "51667                                                 []   \n",
       "\n",
       "                   author_flair_template_id  \\\n",
       "0                                      None   \n",
       "1                                      None   \n",
       "2                                      None   \n",
       "3                                      None   \n",
       "4                                      None   \n",
       "...                                     ...   \n",
       "51663                                  None   \n",
       "51664                                  None   \n",
       "51665  57c0331a-0d2e-11ea-86f4-0ef7601af6ab   \n",
       "51666                                  None   \n",
       "51667                                  None   \n",
       "\n",
       "                            author_flair_text author_flair_text_color  \\\n",
       "0                                        None                    None   \n",
       "1      \u001b201027:3:1:More like ManBoob Aww Face                    dark   \n",
       "2                                        None                    None   \n",
       "3                         🌹 up and eat my ass                    dark   \n",
       "4                                        None                    None   \n",
       "...                                       ...                     ...   \n",
       "51663                                    None                           \n",
       "51664                                    None                    dark   \n",
       "51665                                    FTFY                   light   \n",
       "51666           His retardation is infectious                    dark   \n",
       "51667                                    None                    None   \n",
       "\n",
       "      author_flair_type  ... send_replies stickied       subreddit  \\\n",
       "0                  text  ...         True    False  wallstreetbets   \n",
       "1              richtext  ...         True    False  wallstreetbets   \n",
       "2                  text  ...         True    False  wallstreetbets   \n",
       "3              richtext  ...         True    False  wallstreetbets   \n",
       "4                  text  ...         True    False  wallstreetbets   \n",
       "...                 ...  ...          ...      ...             ...   \n",
       "51663              text  ...         True    False  wallstreetbets   \n",
       "51664               NaN  ...         True    False  wallstreetbets   \n",
       "51665          richtext  ...         True    False  wallstreetbets   \n",
       "51666          richtext  ...         True    False  wallstreetbets   \n",
       "51667              text  ...         True    False  wallstreetbets   \n",
       "\n",
       "      subreddit_id top_awarded_type total_awards_received treatment_tags  \\\n",
       "0         t5_2th52             None                     0             []   \n",
       "1         t5_2th52             None                     0             []   \n",
       "2         t5_2th52             None                     0             []   \n",
       "3         t5_2th52             None                     0             []   \n",
       "4         t5_2th52             None                     0             []   \n",
       "...            ...              ...                   ...            ...   \n",
       "51663     t5_2th52             None                     1             []   \n",
       "51664     t5_2th52             None                     0             []   \n",
       "51665     t5_2th52             None                     0             []   \n",
       "51666     t5_2th52             None                     0             []   \n",
       "51667     t5_2th52             None                     0             []   \n",
       "\n",
       "            created distinguished author_cakeday  \n",
       "0      1.609502e+09           NaN            NaN  \n",
       "1      1.609502e+09           NaN            NaN  \n",
       "2      1.609502e+09           NaN            NaN  \n",
       "3      1.609502e+09           NaN            NaN  \n",
       "4      1.609502e+09           NaN            NaN  \n",
       "...             ...           ...            ...  \n",
       "51663  1.609416e+09           NaN            NaN  \n",
       "51664  1.609416e+09           NaN            NaN  \n",
       "51665  1.609416e+09           NaN            NaN  \n",
       "51666  1.609416e+09           NaN            NaN  \n",
       "51667  1.609416e+09           NaN            NaN  \n",
       "\n",
       "[51668 rows x 38 columns]"
      ],
      "text/html": "<div>\n<style scoped>\n    .dataframe tbody tr th:only-of-type {\n        vertical-align: middle;\n    }\n\n    .dataframe tbody tr th {\n        vertical-align: top;\n    }\n\n    .dataframe thead th {\n        text-align: right;\n    }\n</style>\n<table border=\"1\" class=\"dataframe\">\n  <thead>\n    <tr style=\"text-align: right;\">\n      <th></th>\n      <th>all_awardings</th>\n      <th>associated_award</th>\n      <th>author</th>\n      <th>author_flair_background_color</th>\n      <th>author_flair_css_class</th>\n      <th>author_flair_richtext</th>\n      <th>author_flair_template_id</th>\n      <th>author_flair_text</th>\n      <th>author_flair_text_color</th>\n      <th>author_flair_type</th>\n      <th>...</th>\n      <th>send_replies</th>\n      <th>stickied</th>\n      <th>subreddit</th>\n      <th>subreddit_id</th>\n      <th>top_awarded_type</th>\n      <th>total_awards_received</th>\n      <th>treatment_tags</th>\n      <th>created</th>\n      <th>distinguished</th>\n      <th>author_cakeday</th>\n    </tr>\n  </thead>\n  <tbody>\n    <tr>\n      <th>0</th>\n      <td>[]</td>\n      <td>None</td>\n      <td>bluen</td>\n      <td>None</td>\n      <td>None</td>\n      <td>[]</td>\n      <td>None</td>\n      <td>None</td>\n      <td>None</td>\n      <td>text</td>\n      <td>...</td>\n      <td>True</td>\n      <td>False</td>\n      <td>wallstreetbets</td>\n      <td>t5_2th52</td>\n      <td>None</td>\n      <td>0</td>\n      <td>[]</td>\n      <td>1.609502e+09</td>\n      <td>NaN</td>\n      <td>NaN</td>\n    </tr>\n    <tr>\n      <th>1</th>\n      <td>[]</td>\n      <td>None</td>\n      <td>RamboWarFace</td>\n      <td></td>\n      <td>None</td>\n      <td>[{'e': 'text', 't': '\u001b201027:3:1:More like Man...</td>\n      <td>None</td>\n      <td>\u001b201027:3:1:More like ManBoob Aww Face</td>\n      <td>dark</td>\n      <td>richtext</td>\n      <td>...</td>\n      <td>True</td>\n      <td>False</td>\n      <td>wallstreetbets</td>\n      <td>t5_2th52</td>\n      <td>None</td>\n      <td>0</td>\n      <td>[]</td>\n      <td>1.609502e+09</td>\n      <td>NaN</td>\n      <td>NaN</td>\n    </tr>\n    <tr>\n      <th>2</th>\n      <td>[]</td>\n      <td>None</td>\n      <td>polenta2025</td>\n      <td>None</td>\n      <td>None</td>\n      <td>[]</td>\n      <td>None</td>\n      <td>None</td>\n      <td>None</td>\n      <td>text</td>\n      <td>...</td>\n      <td>True</td>\n      <td>False</td>\n      <td>wallstreetbets</td>\n      <td>t5_2th52</td>\n      <td>None</td>\n      <td>0</td>\n      <td>[]</td>\n      <td>1.609502e+09</td>\n      <td>NaN</td>\n      <td>NaN</td>\n    </tr>\n    <tr>\n      <th>3</th>\n      <td>[]</td>\n      <td>None</td>\n      <td>RIZup18769</td>\n      <td></td>\n      <td>None</td>\n      <td>[{'e': 'text', 't': '🌹 up and eat my ass'}]</td>\n      <td>None</td>\n      <td>🌹 up and eat my ass</td>\n      <td>dark</td>\n      <td>richtext</td>\n      <td>...</td>\n      <td>True</td>\n      <td>False</td>\n      <td>wallstreetbets</td>\n      <td>t5_2th52</td>\n      <td>None</td>\n      <td>0</td>\n      <td>[]</td>\n      <td>1.609502e+09</td>\n      <td>NaN</td>\n      <td>NaN</td>\n    </tr>\n    <tr>\n      <th>4</th>\n      <td>[]</td>\n      <td>None</td>\n      <td>I_had_corn</td>\n      <td>None</td>\n      <td>None</td>\n      <td>[]</td>\n      <td>None</td>\n      <td>None</td>\n      <td>None</td>\n      <td>text</td>\n      <td>...</td>\n      <td>True</td>\n      <td>False</td>\n      <td>wallstreetbets</td>\n      <td>t5_2th52</td>\n      <td>None</td>\n      <td>0</td>\n      <td>[]</td>\n      <td>1.609502e+09</td>\n      <td>NaN</td>\n      <td>NaN</td>\n    </tr>\n    <tr>\n      <th>...</th>\n      <td>...</td>\n      <td>...</td>\n      <td>...</td>\n      <td>...</td>\n      <td>...</td>\n      <td>...</td>\n      <td>...</td>\n      <td>...</td>\n      <td>...</td>\n      <td>...</td>\n      <td>...</td>\n      <td>...</td>\n      <td>...</td>\n      <td>...</td>\n      <td>...</td>\n      <td>...</td>\n      <td>...</td>\n      <td>...</td>\n      <td>...</td>\n      <td>...</td>\n      <td>...</td>\n    </tr>\n    <tr>\n      <th>51663</th>\n      <td>[{'award_sub_type': 'GROUP', 'award_type': 'gl...</td>\n      <td>None</td>\n      <td>Justcorn34</td>\n      <td></td>\n      <td>None</td>\n      <td>[]</td>\n      <td>None</td>\n      <td>None</td>\n      <td></td>\n      <td>text</td>\n      <td>...</td>\n      <td>True</td>\n      <td>False</td>\n      <td>wallstreetbets</td>\n      <td>t5_2th52</td>\n      <td>None</td>\n      <td>1</td>\n      <td>[]</td>\n      <td>1.609416e+09</td>\n      <td>NaN</td>\n      <td>NaN</td>\n    </tr>\n    <tr>\n      <th>51664</th>\n      <td>[]</td>\n      <td>None</td>\n      <td>[deleted]</td>\n      <td></td>\n      <td>None</td>\n      <td>NaN</td>\n      <td>None</td>\n      <td>None</td>\n      <td>dark</td>\n      <td>NaN</td>\n      <td>...</td>\n      <td>True</td>\n      <td>False</td>\n      <td>wallstreetbets</td>\n      <td>t5_2th52</td>\n      <td>None</td>\n      <td>0</td>\n      <td>[]</td>\n      <td>1.609416e+09</td>\n      <td>NaN</td>\n      <td>NaN</td>\n    </tr>\n    <tr>\n      <th>51665</th>\n      <td>[]</td>\n      <td>None</td>\n      <td>CumFlakess</td>\n      <td>#ff4500</td>\n      <td>None</td>\n      <td>[{'e': 'text', 't': 'FTFY'}]</td>\n      <td>57c0331a-0d2e-11ea-86f4-0ef7601af6ab</td>\n      <td>FTFY</td>\n      <td>light</td>\n      <td>richtext</td>\n      <td>...</td>\n      <td>True</td>\n      <td>False</td>\n      <td>wallstreetbets</td>\n      <td>t5_2th52</td>\n      <td>None</td>\n      <td>0</td>\n      <td>[]</td>\n      <td>1.609416e+09</td>\n      <td>NaN</td>\n      <td>NaN</td>\n    </tr>\n    <tr>\n      <th>51666</th>\n      <td>[]</td>\n      <td>None</td>\n      <td>OptionsAndTren</td>\n      <td></td>\n      <td>None</td>\n      <td>[{'e': 'text', 't': 'His retardation is infect...</td>\n      <td>None</td>\n      <td>His retardation is infectious</td>\n      <td>dark</td>\n      <td>richtext</td>\n      <td>...</td>\n      <td>True</td>\n      <td>False</td>\n      <td>wallstreetbets</td>\n      <td>t5_2th52</td>\n      <td>None</td>\n      <td>0</td>\n      <td>[]</td>\n      <td>1.609416e+09</td>\n      <td>NaN</td>\n      <td>NaN</td>\n    </tr>\n    <tr>\n      <th>51667</th>\n      <td>[]</td>\n      <td>None</td>\n      <td>Rat_Fucker_Sam</td>\n      <td>None</td>\n      <td>None</td>\n      <td>[]</td>\n      <td>None</td>\n      <td>None</td>\n      <td>None</td>\n      <td>text</td>\n      <td>...</td>\n      <td>True</td>\n      <td>False</td>\n      <td>wallstreetbets</td>\n      <td>t5_2th52</td>\n      <td>None</td>\n      <td>0</td>\n      <td>[]</td>\n      <td>1.609416e+09</td>\n      <td>NaN</td>\n      <td>NaN</td>\n    </tr>\n  </tbody>\n</table>\n<p>51668 rows × 38 columns</p>\n</div>"
     },
     "metadata": {},
     "execution_count": 45
    }
   ],
   "source": [
    "df"
   ]
  },
  {
   "cell_type": "code",
   "execution_count": 47,
   "metadata": {},
   "outputs": [
    {
     "output_type": "execute_result",
     "data": {
      "text/plain": [
       "['all_awardings',\n",
       " 'associated_award',\n",
       " 'author',\n",
       " 'author_flair_background_color',\n",
       " 'author_flair_css_class',\n",
       " 'author_flair_richtext',\n",
       " 'author_flair_template_id',\n",
       " 'author_flair_text',\n",
       " 'author_flair_text_color',\n",
       " 'author_flair_type',\n",
       " 'author_fullname',\n",
       " 'author_patreon_flair',\n",
       " 'author_premium',\n",
       " 'awarders',\n",
       " 'body',\n",
       " 'collapsed_because_crowd_control',\n",
       " 'comment_type',\n",
       " 'created_utc',\n",
       " 'gildings',\n",
       " 'id',\n",
       " 'is_submitter',\n",
       " 'link_id',\n",
       " 'locked',\n",
       " 'no_follow',\n",
       " 'parent_id',\n",
       " 'permalink',\n",
       " 'retrieved_on',\n",
       " 'score',\n",
       " 'send_replies',\n",
       " 'stickied',\n",
       " 'subreddit',\n",
       " 'subreddit_id',\n",
       " 'top_awarded_type',\n",
       " 'total_awards_received',\n",
       " 'treatment_tags',\n",
       " 'created',\n",
       " 'distinguished',\n",
       " 'author_cakeday']"
      ]
     },
     "metadata": {},
     "execution_count": 47
    }
   ],
   "source": [
    "df.columns.tolist()"
   ]
  },
  {
   "cell_type": "code",
   "execution_count": 48,
   "metadata": {},
   "outputs": [
    {
     "output_type": "execute_result",
     "data": {
      "text/plain": [
       "all_awardings                       object\n",
       "associated_award                    object\n",
       "author                              object\n",
       "author_flair_background_color       object\n",
       "author_flair_css_class              object\n",
       "author_flair_richtext               object\n",
       "author_flair_template_id            object\n",
       "author_flair_text                   object\n",
       "author_flair_text_color             object\n",
       "author_flair_type                   object\n",
       "author_fullname                     object\n",
       "author_patreon_flair                object\n",
       "author_premium                      object\n",
       "awarders                            object\n",
       "body                                object\n",
       "collapsed_because_crowd_control     object\n",
       "comment_type                        object\n",
       "created_utc                          int64\n",
       "gildings                            object\n",
       "id                                  object\n",
       "is_submitter                          bool\n",
       "link_id                             object\n",
       "locked                                bool\n",
       "no_follow                             bool\n",
       "parent_id                           object\n",
       "permalink                           object\n",
       "retrieved_on                         int64\n",
       "score                                int64\n",
       "send_replies                          bool\n",
       "stickied                              bool\n",
       "subreddit                           object\n",
       "subreddit_id                        object\n",
       "top_awarded_type                    object\n",
       "total_awards_received                int64\n",
       "treatment_tags                      object\n",
       "created                            float64\n",
       "distinguished                       object\n",
       "author_cakeday                      object\n",
       "dtype: object"
      ]
     },
     "metadata": {},
     "execution_count": 48
    }
   ],
   "source": [
    "df.dtypes"
   ]
  },
  {
   "cell_type": "code",
   "execution_count": 53,
   "metadata": {},
   "outputs": [
    {
     "output_type": "execute_result",
     "data": {
      "text/plain": [
       "                                           all_awardings associated_award  \\\n",
       "24894  [{'award_sub_type': 'GROUP', 'award_type': 'gl...             None   \n",
       "21671  [{'award_sub_type': 'PREMIUM', 'award_type': '...             None   \n",
       "49290  [{'award_sub_type': 'PREMIUM', 'award_type': '...             None   \n",
       "11110  [{'award_sub_type': 'PREMIUM', 'award_type': '...             None   \n",
       "29217  [{'award_sub_type': 'COMMUNITY', 'award_type':...             None   \n",
       "...                                                  ...              ...   \n",
       "17256                                                 []             None   \n",
       "17257                                                 []             None   \n",
       "17258                                                 []             None   \n",
       "17259                                                 []             None   \n",
       "51667                                                 []             None   \n",
       "\n",
       "                author author_flair_background_color author_flair_css_class  \\\n",
       "24894        shahk7729                          None                   None   \n",
       "21671          itsleis                                                 None   \n",
       "49290          nahog99                          None                   None   \n",
       "11110  Narrow-Cup-3500                                                 None   \n",
       "29217      watchmaking                                                 None   \n",
       "...                ...                           ...                    ...   \n",
       "17256  Stonk_Collector                                                 None   \n",
       "17257  Deez_Varys_Nuts                          None                   None   \n",
       "17258      toeofcamell                                                 None   \n",
       "17259         Harudera                       #cc5289                   None   \n",
       "51667   Rat_Fucker_Sam                          None                   None   \n",
       "\n",
       "                      author_flair_richtext  \\\n",
       "24894                                    []   \n",
       "21671  [{'e': 'text', 't': 'Shrimp Shoal'}]   \n",
       "49290                                    []   \n",
       "11110   [{'e': 'text', 't': '\u001b201121:3:1'}]   \n",
       "29217   [{'e': 'text', 't': '\u001b200925:3:1'}]   \n",
       "...                                     ...   \n",
       "17256   [{'e': 'text', 't': '\u001b201102:5:1'}]   \n",
       "17257                                    []   \n",
       "17258   [{'e': 'text', 't': '\u001b201226:3:1'}]   \n",
       "17259    [{'e': 'text', 't': 'Chewy Gang'}]   \n",
       "51667                                    []   \n",
       "\n",
       "                   author_flair_template_id author_flair_text  \\\n",
       "24894                                  None              None   \n",
       "21671                                  None      Shrimp Shoal   \n",
       "49290                                  None              None   \n",
       "11110                                  None       \u001b201121:3:1   \n",
       "29217                                  None       \u001b200925:3:1   \n",
       "...                                     ...               ...   \n",
       "17256                                  None       \u001b201102:5:1   \n",
       "17257                                  None              None   \n",
       "17258                                  None       \u001b201226:3:1   \n",
       "17259  6688b7e6-0d2e-11ea-8964-0e8a0565e62d        Chewy Gang   \n",
       "51667                                  None              None   \n",
       "\n",
       "      author_flair_text_color author_flair_type  ... stickied       subreddit  \\\n",
       "24894                    None              text  ...    False  wallstreetbets   \n",
       "21671                    dark          richtext  ...    False  wallstreetbets   \n",
       "49290                    None              text  ...    False  wallstreetbets   \n",
       "11110                    dark          richtext  ...    False  wallstreetbets   \n",
       "29217                    dark          richtext  ...    False  wallstreetbets   \n",
       "...                       ...               ...  ...      ...             ...   \n",
       "17256                    dark          richtext  ...    False  wallstreetbets   \n",
       "17257                    None              text  ...    False  wallstreetbets   \n",
       "17258                    dark          richtext  ...    False  wallstreetbets   \n",
       "17259                   light          richtext  ...    False  wallstreetbets   \n",
       "51667                    None              text  ...    False  wallstreetbets   \n",
       "\n",
       "      subreddit_id top_awarded_type total_awards_received  \\\n",
       "24894     t5_2th52             None                    10   \n",
       "21671     t5_2th52             None                    10   \n",
       "49290     t5_2th52             None                     4   \n",
       "11110     t5_2th52             None                     3   \n",
       "29217     t5_2th52             None                     3   \n",
       "...            ...              ...                   ...   \n",
       "17256     t5_2th52             None                     0   \n",
       "17257     t5_2th52             None                     0   \n",
       "17258     t5_2th52             None                     0   \n",
       "17259     t5_2th52             None                     0   \n",
       "51667     t5_2th52             None                     0   \n",
       "\n",
       "                  treatment_tags       created  distinguished author_cakeday  \\\n",
       "24894  [econ:render:lottie:bulb]  1.609461e+09            NaN            NaN   \n",
       "21671                         []  1.609465e+09            NaN            NaN   \n",
       "49290                         []  1.609420e+09            NaN            NaN   \n",
       "11110                         []  1.609479e+09            NaN            NaN   \n",
       "29217                         []  1.609457e+09            NaN            NaN   \n",
       "...                          ...           ...            ...            ...   \n",
       "17256                         []  1.609470e+09            NaN            NaN   \n",
       "17257                         []  1.609470e+09            NaN            NaN   \n",
       "17258                         []  1.609470e+09            NaN            NaN   \n",
       "17259                         []  1.609470e+09            NaN            NaN   \n",
       "51667                         []  1.609416e+09            NaN            NaN   \n",
       "\n",
       "             date_created  \n",
       "24894 2021-01-01 00:38:19  \n",
       "21671 2021-01-01 01:38:27  \n",
       "49290 2020-12-31 13:05:09  \n",
       "11110 2021-01-01 05:30:59  \n",
       "29217 2020-12-31 23:20:48  \n",
       "...                   ...  \n",
       "17256 2021-01-01 03:00:29  \n",
       "17257 2021-01-01 03:00:29  \n",
       "17258 2021-01-01 03:00:28  \n",
       "17259 2021-01-01 03:00:27  \n",
       "51667 2020-12-31 12:00:02  \n",
       "\n",
       "[51668 rows x 39 columns]"
      ],
      "text/html": "<div>\n<style scoped>\n    .dataframe tbody tr th:only-of-type {\n        vertical-align: middle;\n    }\n\n    .dataframe tbody tr th {\n        vertical-align: top;\n    }\n\n    .dataframe thead th {\n        text-align: right;\n    }\n</style>\n<table border=\"1\" class=\"dataframe\">\n  <thead>\n    <tr style=\"text-align: right;\">\n      <th></th>\n      <th>all_awardings</th>\n      <th>associated_award</th>\n      <th>author</th>\n      <th>author_flair_background_color</th>\n      <th>author_flair_css_class</th>\n      <th>author_flair_richtext</th>\n      <th>author_flair_template_id</th>\n      <th>author_flair_text</th>\n      <th>author_flair_text_color</th>\n      <th>author_flair_type</th>\n      <th>...</th>\n      <th>stickied</th>\n      <th>subreddit</th>\n      <th>subreddit_id</th>\n      <th>top_awarded_type</th>\n      <th>total_awards_received</th>\n      <th>treatment_tags</th>\n      <th>created</th>\n      <th>distinguished</th>\n      <th>author_cakeday</th>\n      <th>date_created</th>\n    </tr>\n  </thead>\n  <tbody>\n    <tr>\n      <th>24894</th>\n      <td>[{'award_sub_type': 'GROUP', 'award_type': 'gl...</td>\n      <td>None</td>\n      <td>shahk7729</td>\n      <td>None</td>\n      <td>None</td>\n      <td>[]</td>\n      <td>None</td>\n      <td>None</td>\n      <td>None</td>\n      <td>text</td>\n      <td>...</td>\n      <td>False</td>\n      <td>wallstreetbets</td>\n      <td>t5_2th52</td>\n      <td>None</td>\n      <td>10</td>\n      <td>[econ:render:lottie:bulb]</td>\n      <td>1.609461e+09</td>\n      <td>NaN</td>\n      <td>NaN</td>\n      <td>2021-01-01 00:38:19</td>\n    </tr>\n    <tr>\n      <th>21671</th>\n      <td>[{'award_sub_type': 'PREMIUM', 'award_type': '...</td>\n      <td>None</td>\n      <td>itsleis</td>\n      <td></td>\n      <td>None</td>\n      <td>[{'e': 'text', 't': 'Shrimp Shoal'}]</td>\n      <td>None</td>\n      <td>Shrimp Shoal</td>\n      <td>dark</td>\n      <td>richtext</td>\n      <td>...</td>\n      <td>False</td>\n      <td>wallstreetbets</td>\n      <td>t5_2th52</td>\n      <td>None</td>\n      <td>10</td>\n      <td>[]</td>\n      <td>1.609465e+09</td>\n      <td>NaN</td>\n      <td>NaN</td>\n      <td>2021-01-01 01:38:27</td>\n    </tr>\n    <tr>\n      <th>49290</th>\n      <td>[{'award_sub_type': 'PREMIUM', 'award_type': '...</td>\n      <td>None</td>\n      <td>nahog99</td>\n      <td>None</td>\n      <td>None</td>\n      <td>[]</td>\n      <td>None</td>\n      <td>None</td>\n      <td>None</td>\n      <td>text</td>\n      <td>...</td>\n      <td>False</td>\n      <td>wallstreetbets</td>\n      <td>t5_2th52</td>\n      <td>None</td>\n      <td>4</td>\n      <td>[]</td>\n      <td>1.609420e+09</td>\n      <td>NaN</td>\n      <td>NaN</td>\n      <td>2020-12-31 13:05:09</td>\n    </tr>\n    <tr>\n      <th>11110</th>\n      <td>[{'award_sub_type': 'PREMIUM', 'award_type': '...</td>\n      <td>None</td>\n      <td>Narrow-Cup-3500</td>\n      <td></td>\n      <td>None</td>\n      <td>[{'e': 'text', 't': '\u001b201121:3:1'}]</td>\n      <td>None</td>\n      <td>\u001b201121:3:1</td>\n      <td>dark</td>\n      <td>richtext</td>\n      <td>...</td>\n      <td>False</td>\n      <td>wallstreetbets</td>\n      <td>t5_2th52</td>\n      <td>None</td>\n      <td>3</td>\n      <td>[]</td>\n      <td>1.609479e+09</td>\n      <td>NaN</td>\n      <td>NaN</td>\n      <td>2021-01-01 05:30:59</td>\n    </tr>\n    <tr>\n      <th>29217</th>\n      <td>[{'award_sub_type': 'COMMUNITY', 'award_type':...</td>\n      <td>None</td>\n      <td>watchmaking</td>\n      <td></td>\n      <td>None</td>\n      <td>[{'e': 'text', 't': '\u001b200925:3:1'}]</td>\n      <td>None</td>\n      <td>\u001b200925:3:1</td>\n      <td>dark</td>\n      <td>richtext</td>\n      <td>...</td>\n      <td>False</td>\n      <td>wallstreetbets</td>\n      <td>t5_2th52</td>\n      <td>None</td>\n      <td>3</td>\n      <td>[]</td>\n      <td>1.609457e+09</td>\n      <td>NaN</td>\n      <td>NaN</td>\n      <td>2020-12-31 23:20:48</td>\n    </tr>\n    <tr>\n      <th>...</th>\n      <td>...</td>\n      <td>...</td>\n      <td>...</td>\n      <td>...</td>\n      <td>...</td>\n      <td>...</td>\n      <td>...</td>\n      <td>...</td>\n      <td>...</td>\n      <td>...</td>\n      <td>...</td>\n      <td>...</td>\n      <td>...</td>\n      <td>...</td>\n      <td>...</td>\n      <td>...</td>\n      <td>...</td>\n      <td>...</td>\n      <td>...</td>\n      <td>...</td>\n      <td>...</td>\n    </tr>\n    <tr>\n      <th>17256</th>\n      <td>[]</td>\n      <td>None</td>\n      <td>Stonk_Collector</td>\n      <td></td>\n      <td>None</td>\n      <td>[{'e': 'text', 't': '\u001b201102:5:1'}]</td>\n      <td>None</td>\n      <td>\u001b201102:5:1</td>\n      <td>dark</td>\n      <td>richtext</td>\n      <td>...</td>\n      <td>False</td>\n      <td>wallstreetbets</td>\n      <td>t5_2th52</td>\n      <td>None</td>\n      <td>0</td>\n      <td>[]</td>\n      <td>1.609470e+09</td>\n      <td>NaN</td>\n      <td>NaN</td>\n      <td>2021-01-01 03:00:29</td>\n    </tr>\n    <tr>\n      <th>17257</th>\n      <td>[]</td>\n      <td>None</td>\n      <td>Deez_Varys_Nuts</td>\n      <td>None</td>\n      <td>None</td>\n      <td>[]</td>\n      <td>None</td>\n      <td>None</td>\n      <td>None</td>\n      <td>text</td>\n      <td>...</td>\n      <td>False</td>\n      <td>wallstreetbets</td>\n      <td>t5_2th52</td>\n      <td>None</td>\n      <td>0</td>\n      <td>[]</td>\n      <td>1.609470e+09</td>\n      <td>NaN</td>\n      <td>NaN</td>\n      <td>2021-01-01 03:00:29</td>\n    </tr>\n    <tr>\n      <th>17258</th>\n      <td>[]</td>\n      <td>None</td>\n      <td>toeofcamell</td>\n      <td></td>\n      <td>None</td>\n      <td>[{'e': 'text', 't': '\u001b201226:3:1'}]</td>\n      <td>None</td>\n      <td>\u001b201226:3:1</td>\n      <td>dark</td>\n      <td>richtext</td>\n      <td>...</td>\n      <td>False</td>\n      <td>wallstreetbets</td>\n      <td>t5_2th52</td>\n      <td>None</td>\n      <td>0</td>\n      <td>[]</td>\n      <td>1.609470e+09</td>\n      <td>NaN</td>\n      <td>NaN</td>\n      <td>2021-01-01 03:00:28</td>\n    </tr>\n    <tr>\n      <th>17259</th>\n      <td>[]</td>\n      <td>None</td>\n      <td>Harudera</td>\n      <td>#cc5289</td>\n      <td>None</td>\n      <td>[{'e': 'text', 't': 'Chewy Gang'}]</td>\n      <td>6688b7e6-0d2e-11ea-8964-0e8a0565e62d</td>\n      <td>Chewy Gang</td>\n      <td>light</td>\n      <td>richtext</td>\n      <td>...</td>\n      <td>False</td>\n      <td>wallstreetbets</td>\n      <td>t5_2th52</td>\n      <td>None</td>\n      <td>0</td>\n      <td>[]</td>\n      <td>1.609470e+09</td>\n      <td>NaN</td>\n      <td>NaN</td>\n      <td>2021-01-01 03:00:27</td>\n    </tr>\n    <tr>\n      <th>51667</th>\n      <td>[]</td>\n      <td>None</td>\n      <td>Rat_Fucker_Sam</td>\n      <td>None</td>\n      <td>None</td>\n      <td>[]</td>\n      <td>None</td>\n      <td>None</td>\n      <td>None</td>\n      <td>text</td>\n      <td>...</td>\n      <td>False</td>\n      <td>wallstreetbets</td>\n      <td>t5_2th52</td>\n      <td>None</td>\n      <td>0</td>\n      <td>[]</td>\n      <td>1.609416e+09</td>\n      <td>NaN</td>\n      <td>NaN</td>\n      <td>2020-12-31 12:00:02</td>\n    </tr>\n  </tbody>\n</table>\n<p>51668 rows × 39 columns</p>\n</div>"
     },
     "metadata": {},
     "execution_count": 53
    }
   ],
   "source": [
    "df[\"date_created\"] = pd.to_datetime(df[\"created\"], unit='s') \n",
    "df.sort_values(by='total_awards_received', ascending=False)"
   ]
  },
  {
   "cell_type": "code",
   "execution_count": null,
   "metadata": {},
   "outputs": [],
   "source": [
    "print(len(cache))"
   ]
  },
  {
   "cell_type": "code",
   "execution_count": null,
   "metadata": {},
   "outputs": [],
   "source": [
    "# dir(cache[0])"
   ]
  },
  {
   "cell_type": "code",
   "execution_count": null,
   "metadata": {},
   "outputs": [],
   "source": [
    "comments = []\n",
    "for comment in cache:\n",
    "        comments.append([comment.author, comment.body, comment.created_utc, comment.id, comment.link_id, comment.ups, comment.downs, comment.parent_id, comment.score, comment.permalink, comment.total_awards_received, comment.controversiality])\n",
    "comments_df = pd.DataFrame(comments, columns=[\"author\", \"body\", \"created\", \"id\", \"link_id\", \"up_votes\", \"down_votes\", \"parent_id\", \"score\", \"permalink\", 'total_awards_received', 'controversiality'])"
   ]
  },
  {
   "cell_type": "code",
   "execution_count": null,
   "metadata": {},
   "outputs": [],
   "source": [
    "# comments_df.to_csv(\"../Data/comments_all_test.csv\", mode=\"a\")"
   ]
  },
  {
   "cell_type": "code",
   "execution_count": null,
   "metadata": {},
   "outputs": [],
   "source": [
    "\n",
    "# for post in cache:\n",
    "\n",
    "#     sub_dict['body'].append(post.body)\n",
    "#     sub_dict['author'].append(post.author)\n",
    "#     sub_dict['id'].append(post.id)\n",
    "#     sub_dict['permalink'].append(post.permalink)\n",
    "#     sub_dict['parent_id'].append(post.parent_id)\n",
    "#     sub_dict['score'].append(post.score)\n",
    "#     sub_dict['ups'].append(post.ups)\n",
    "#     sub_dict['downs'].append(post.downs)\n",
    "#     sub_dict['created_utc'].append(post.created_utc)"
   ]
  },
  {
   "cell_type": "code",
   "execution_count": null,
   "metadata": {},
   "outputs": [],
   "source": [
    "comments_df"
   ]
  },
  {
   "cell_type": "code",
   "execution_count": null,
   "metadata": {},
   "outputs": [],
   "source": [
    "comments_df[\"date_created\"] = pd.to_datetime(comments_df[\"created\"], unit='s') "
   ]
  },
  {
   "cell_type": "code",
   "execution_count": null,
   "metadata": {},
   "outputs": [],
   "source": [
    "comments_df.sort_values(by='date_created')"
   ]
  },
  {
   "cell_type": "code",
   "execution_count": null,
   "metadata": {},
   "outputs": [],
   "source": [
    "amc_df = pd.DataFrame(cache)"
   ]
  },
  {
   "cell_type": "code",
   "execution_count": null,
   "metadata": {},
   "outputs": [],
   "source": [
    "amc_df"
   ]
  },
  {
   "cell_type": "code",
   "execution_count": null,
   "metadata": {},
   "outputs": [],
   "source": [
    "def create_csv(data, filename):\n",
    "    f = open(filename, \"w\", encoding=\"utf-8\")\n",
    "    for item in data:\n",
    "        dt_object = datetime.fromtimestamp(item.created_utc)\n",
    "        body = item.body\n",
    "        body_cleaned = re.sub(r'[^A-Za-z0-9 ]+', '', body)\n",
    "        f.write(f\"{body_cleaned}, {dt_object.month}, {dt_object.day}, {dt_object.year}, {dt_object.hour}\\n\")\n",
    "    f.close"
   ]
  }
 ]
}