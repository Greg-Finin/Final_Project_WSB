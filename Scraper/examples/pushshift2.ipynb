{
 "metadata": {
  "language_info": {
   "codemirror_mode": {
    "name": "ipython",
    "version": 3
   },
   "file_extension": ".py",
   "mimetype": "text/x-python",
   "name": "python",
   "nbconvert_exporter": "python",
   "pygments_lexer": "ipython3",
   "version": "3.7.9-final"
  },
  "orig_nbformat": 2,
  "kernelspec": {
   "name": "python3",
   "display_name": "Python 3",
   "language": "python"
  }
 },
 "nbformat": 4,
 "nbformat_minor": 2,
 "cells": [
  {
   "cell_type": "code",
   "execution_count": 7,
   "metadata": {},
   "outputs": [],
   "source": [
    "import praw\n",
    "from psaw import PushshiftAPI\n",
    "from datetime import datetime\n",
    "import re\n",
    "import json\n",
    "import pandas as pd"
   ]
  },
  {
   "cell_type": "code",
   "execution_count": 8,
   "metadata": {},
   "outputs": [
    {
     "output_type": "stream",
     "name": "stdout",
     "text": [
      "CPU times: user 21 µs, sys: 6 µs, total: 27 µs\nWall time: 30 µs\n"
     ]
    }
   ],
   "source": [
    "%%time\n",
    "start_epoch=int(datetime(2020, 12, 31).timestamp())\n",
    "end_epoch = int(datetime(2021, 1, 1).timestamp())\n",
    "# gen = api.search_comments(q='AMC', subreddit='wallstreetbets', after=start_epoch)\n",
    "cache = []"
   ]
  },
  {
   "cell_type": "code",
   "execution_count": 9,
   "metadata": {},
   "outputs": [
    {
     "output_type": "stream",
     "name": "stdout",
     "text": [
      "CPU times: user 1h 5min 8s, sys: 16min 15s, total: 1h 21min 23s\nWall time: 1d 12h 16min 33s\n"
     ]
    }
   ],
   "source": [
    "%%time\n",
    "api = PushshiftAPI()\n",
    "gen = api.search_comments(subreddit='wallstreetbets', after=start_epoch)\n",
    "df = pd.DataFrame([thing.d_ for thing in gen])"
   ]
  },
  {
   "cell_type": "code",
   "execution_count": null,
   "metadata": {},
   "outputs": [],
   "source": [
    "\n",
    "    \n"
   ]
  },
  {
   "cell_type": "code",
   "execution_count": null,
   "metadata": {},
   "outputs": [],
   "source": []
  },
  {
   "cell_type": "code",
   "execution_count": null,
   "metadata": {},
   "outputs": [],
   "source": []
  }
 ]
}