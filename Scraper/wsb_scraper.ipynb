{
 "metadata": {
  "language_info": {
   "codemirror_mode": {
    "name": "ipython",
    "version": 3
   },
   "file_extension": ".py",
   "mimetype": "text/x-python",
   "name": "python",
   "nbconvert_exporter": "python",
   "pygments_lexer": "ipython3",
   "version": "3.7.9-final"
  },
  "orig_nbformat": 2,
  "kernelspec": {
   "name": "python3",
   "display_name": "Python 3",
   "language": "python"
  }
 },
 "nbformat": 4,
 "nbformat_minor": 2,
 "cells": [
  {
   "cell_type": "code",
   "execution_count": 29,
   "metadata": {},
   "outputs": [],
   "source": [
    "import re\n",
    "import sys\n",
    "import praw\n",
    "import time\n",
    "import json\n",
    "import pprint\n",
    "import operator\n",
    "import datetime\n",
    "from praw.models import MoreComments\n",
    "from iexfinance.stocks import Stock as IEXStock\n",
    "from vaderSentiment.vaderSentiment import SentimentIntensityAnalyzer\n",
    "import pandas as pd"
   ]
  },
  {
   "cell_type": "code",
   "execution_count": 30,
   "metadata": {},
   "outputs": [],
   "source": [
    "sub = \"wallstreetbets\"\n",
    "\n",
    "# with open(\"config.json\") as json_data_file:\n",
    "#     data = json.load(json_data_file)\n",
    "\n",
    "# create a reddit instance\n",
    "# reddit = praw.Reddit(client_id=data[\"client_id\"],     \n",
    "#                 client_secret=data[\"client_secret\"],\n",
    "#                 username=data[\"username\"], \n",
    "#                 password=data[\"password\"],\n",
    "#                 user_agent=data[\"user_agent\"])\n",
    "\n",
    "\n",
    "# create a reddit instance\n",
    "# Get credentials from DEFAULT instance in praw.ini\n",
    "reddit = praw.Reddit()"
   ]
  },
  {
   "cell_type": "code",
   "execution_count": 47,
   "metadata": {},
   "outputs": [
    {
     "output_type": "stream",
     "name": "stdout",
     "text": [
      "Weekend Discussion Thread for the Weekend of February 05, 2021\n",
      "Mango Juul Pods are Back!\n",
      "A GME story.\n",
      "We gonna let them talk about us like this?\n",
      "Here's some gain porn for you assholes. Bought for years on the dip but I diamond 💎 handed 🙌 this bitch and it finally paid off.\n",
      "GME Gain porn. ~$35k to $400k in a week. Sold at $450. Back in at $71 avg\n",
      "Evidence of a Short Ladder Attack.\n",
      "Is it safe to post GME gain porn now?\n",
      "Aim for the moon\n",
      "PSA to newer members of WSB.\n"
     ]
    }
   ],
   "source": [
    "posts = []\n",
    "comments = []\n",
    "wsb_sub = reddit.subreddit(sub)\n",
    "for post in wsb_sub.hot(limit=10):\n",
    "    posts.append([post.title, post.score, post.id, post.subreddit, post.url, post.num_comments, post.selftext, post.created])\n",
    "    submission = reddit.submission(id=post.id)\n",
    "    submission.comments.replace_more(limit=None)\n",
    "    print(submission.title)\n",
    "    for comment in submission.comments.list():\n",
    "        comments.append([comment.author, comment.body, comment.created_utc, comment.id, comment.link_id, comment.score])\n",
    "posts_df = pd.DataFrame(posts,columns=['title', 'score', 'id', 'subreddit', 'url', 'num_comments', 'body', 'created'])\n",
    "comments_df = pd.DataFrame(comments, columns=[\"author\", \"body\", \"created\", \"id\", \"link_id\", \"score\"])\n"
   ]
  },
  {
   "cell_type": "code",
   "execution_count": 48,
   "metadata": {},
   "outputs": [
    {
     "output_type": "execute_result",
     "data": {
      "text/plain": [
       "                                               title  score      id  \\\n",
       "0  Weekend Discussion Thread for the Weekend of F...   3061  ldh5fc   \n",
       "1                          Mango Juul Pods are Back!  12496  ld6nre   \n",
       "2                                       A GME story.  12669  ldyeiy   \n",
       "3         We gonna let them talk about us like this?   4041  ldyno7   \n",
       "4  Here's some gain porn for you assholes. Bought...   4104  ldyc98   \n",
       "5  GME Gain porn. ~$35k to $400k in a week. Sold ...   1853  ldza6z   \n",
       "6                 Evidence of a Short Ladder Attack.   1947  ldyov6   \n",
       "7              Is it safe to post GME gain porn now?   3799  ldv2ca   \n",
       "8                                   Aim for the moon    958  le05qi   \n",
       "9                       PSA to newer members of WSB.   2152  ldvw8m   \n",
       "\n",
       "        subreddit                                                url  \\\n",
       "0  wallstreetbets  https://www.reddit.com/r/wallstreetbets/commen...   \n",
       "1  wallstreetbets  https://www.reddit.com/r/wallstreetbets/commen...   \n",
       "2  wallstreetbets                    https://v.redd.it/dtvinejd8vf61   \n",
       "3  wallstreetbets                https://i.redd.it/i4bnrltyavf61.jpg   \n",
       "4  wallstreetbets                https://i.redd.it/qg1ayqlr7vf61.jpg   \n",
       "5  wallstreetbets              https://www.reddit.com/gallery/ldza6z   \n",
       "6  wallstreetbets                    https://v.redd.it/edvbloiabvf61   \n",
       "7  wallstreetbets                https://i.redd.it/kxnwt9dy1uf61.jpg   \n",
       "8  wallstreetbets                https://i.redd.it/84hxy805pvf61.gif   \n",
       "9  wallstreetbets  https://www.reddit.com/r/wallstreetbets/commen...   \n",
       "\n",
       "   num_comments                                               body  \\\n",
       "0         27218  Your weekend discussion thread. Please keep th...   \n",
       "1         54876     Ok but not really but once again, our commu...   \n",
       "2           477                                                      \n",
       "3           538                                                      \n",
       "4           209                                                      \n",
       "5           241                                                      \n",
       "6            99                                                      \n",
       "7           431                                                      \n",
       "8            68                                                      \n",
       "9           289  I want to clarify a few things to some newer m...   \n",
       "\n",
       "        created  \n",
       "0  1.612588e+09  \n",
       "1  1.612559e+09  \n",
       "2  1.612650e+09  \n",
       "3  1.612651e+09  \n",
       "4  1.612649e+09  \n",
       "5  1.612653e+09  \n",
       "6  1.612651e+09  \n",
       "7  1.612635e+09  \n",
       "8  1.612655e+09  \n",
       "9  1.612639e+09  "
      ],
      "text/html": "<div>\n<style scoped>\n    .dataframe tbody tr th:only-of-type {\n        vertical-align: middle;\n    }\n\n    .dataframe tbody tr th {\n        vertical-align: top;\n    }\n\n    .dataframe thead th {\n        text-align: right;\n    }\n</style>\n<table border=\"1\" class=\"dataframe\">\n  <thead>\n    <tr style=\"text-align: right;\">\n      <th></th>\n      <th>title</th>\n      <th>score</th>\n      <th>id</th>\n      <th>subreddit</th>\n      <th>url</th>\n      <th>num_comments</th>\n      <th>body</th>\n      <th>created</th>\n    </tr>\n  </thead>\n  <tbody>\n    <tr>\n      <th>0</th>\n      <td>Weekend Discussion Thread for the Weekend of F...</td>\n      <td>3061</td>\n      <td>ldh5fc</td>\n      <td>wallstreetbets</td>\n      <td>https://www.reddit.com/r/wallstreetbets/commen...</td>\n      <td>27218</td>\n      <td>Your weekend discussion thread. Please keep th...</td>\n      <td>1.612588e+09</td>\n    </tr>\n    <tr>\n      <th>1</th>\n      <td>Mango Juul Pods are Back!</td>\n      <td>12496</td>\n      <td>ld6nre</td>\n      <td>wallstreetbets</td>\n      <td>https://www.reddit.com/r/wallstreetbets/commen...</td>\n      <td>54876</td>\n      <td>Ok but not really but once again, our commu...</td>\n      <td>1.612559e+09</td>\n    </tr>\n    <tr>\n      <th>2</th>\n      <td>A GME story.</td>\n      <td>12669</td>\n      <td>ldyeiy</td>\n      <td>wallstreetbets</td>\n      <td>https://v.redd.it/dtvinejd8vf61</td>\n      <td>477</td>\n      <td></td>\n      <td>1.612650e+09</td>\n    </tr>\n    <tr>\n      <th>3</th>\n      <td>We gonna let them talk about us like this?</td>\n      <td>4041</td>\n      <td>ldyno7</td>\n      <td>wallstreetbets</td>\n      <td>https://i.redd.it/i4bnrltyavf61.jpg</td>\n      <td>538</td>\n      <td></td>\n      <td>1.612651e+09</td>\n    </tr>\n    <tr>\n      <th>4</th>\n      <td>Here's some gain porn for you assholes. Bought...</td>\n      <td>4104</td>\n      <td>ldyc98</td>\n      <td>wallstreetbets</td>\n      <td>https://i.redd.it/qg1ayqlr7vf61.jpg</td>\n      <td>209</td>\n      <td></td>\n      <td>1.612649e+09</td>\n    </tr>\n    <tr>\n      <th>5</th>\n      <td>GME Gain porn. ~$35k to $400k in a week. Sold ...</td>\n      <td>1853</td>\n      <td>ldza6z</td>\n      <td>wallstreetbets</td>\n      <td>https://www.reddit.com/gallery/ldza6z</td>\n      <td>241</td>\n      <td></td>\n      <td>1.612653e+09</td>\n    </tr>\n    <tr>\n      <th>6</th>\n      <td>Evidence of a Short Ladder Attack.</td>\n      <td>1947</td>\n      <td>ldyov6</td>\n      <td>wallstreetbets</td>\n      <td>https://v.redd.it/edvbloiabvf61</td>\n      <td>99</td>\n      <td></td>\n      <td>1.612651e+09</td>\n    </tr>\n    <tr>\n      <th>7</th>\n      <td>Is it safe to post GME gain porn now?</td>\n      <td>3799</td>\n      <td>ldv2ca</td>\n      <td>wallstreetbets</td>\n      <td>https://i.redd.it/kxnwt9dy1uf61.jpg</td>\n      <td>431</td>\n      <td></td>\n      <td>1.612635e+09</td>\n    </tr>\n    <tr>\n      <th>8</th>\n      <td>Aim for the moon</td>\n      <td>958</td>\n      <td>le05qi</td>\n      <td>wallstreetbets</td>\n      <td>https://i.redd.it/84hxy805pvf61.gif</td>\n      <td>68</td>\n      <td></td>\n      <td>1.612655e+09</td>\n    </tr>\n    <tr>\n      <th>9</th>\n      <td>PSA to newer members of WSB.</td>\n      <td>2152</td>\n      <td>ldvw8m</td>\n      <td>wallstreetbets</td>\n      <td>https://www.reddit.com/r/wallstreetbets/commen...</td>\n      <td>289</td>\n      <td>I want to clarify a few things to some newer m...</td>\n      <td>1.612639e+09</td>\n    </tr>\n  </tbody>\n</table>\n</div>"
     },
     "metadata": {},
     "execution_count": 48
    }
   ],
   "source": [
    "posts_df"
   ]
  },
  {
   "cell_type": "code",
   "execution_count": 49,
   "metadata": {},
   "outputs": [
    {
     "output_type": "execute_result",
     "data": {
      "text/plain": [
       "                     author  \\\n",
       "0                MyPetKoala   \n",
       "1        AutisticallyGifted   \n",
       "2                    D4nk1e   \n",
       "3                    bsw000   \n",
       "4                 ccre4life   \n",
       "...                     ...   \n",
       "55857         TendiesMeWant   \n",
       "55858               mbeenox   \n",
       "55859          Totally_Kyle   \n",
       "55860  Jazzlike-Recover7560   \n",
       "55861     TastesLikeBurning   \n",
       "\n",
       "                                                    body       created  \\\n",
       "0      By far the craziest week in the stock market t...  1.612570e+09   \n",
       "1      This week has been the longest month. \\n\\nI no...  1.612560e+09   \n",
       "2                         Fuck you and see you on monday  1.612559e+09   \n",
       "3      Remember to leave Robinhood a review if you ha...  1.612559e+09   \n",
       "4      I'm honestly so happy that it has gone back to...  1.612563e+09   \n",
       "...                                                  ...           ...   \n",
       "55857  Great, you can't even defend what you said aft...  1.612637e+09   \n",
       "55858                    Can make sense of your response  1.612649e+09   \n",
       "55859                                    You’re retarded  1.612646e+09   \n",
       "55860                                              I see  1.612649e+09   \n",
       "55861  [You made me sad](https://i.imgur.com/jABc3FG....  1.612646e+09   \n",
       "\n",
       "            id    link_id  score  \n",
       "0      gm6fira  t3_ldh5fc   1304  \n",
       "1      gm5uekf  t3_ldh5fc    397  \n",
       "2      gm5sj0s  t3_ldh5fc    895  \n",
       "3      gm5t289  t3_ldh5fc    460  \n",
       "4      gm61h18  t3_ldh5fc    435  \n",
       "...        ...        ...    ...  \n",
       "55857  gm98umd  t3_ldvw8m      1  \n",
       "55858  gma8011  t3_ldvw8m      2  \n",
       "55859  gm9vksn  t3_ldvw8m      1  \n",
       "55860  gma85f6  t3_ldvw8m      1  \n",
       "55861  gm9w15h  t3_ldvw8m      1  \n",
       "\n",
       "[55862 rows x 6 columns]"
      ],
      "text/html": "<div>\n<style scoped>\n    .dataframe tbody tr th:only-of-type {\n        vertical-align: middle;\n    }\n\n    .dataframe tbody tr th {\n        vertical-align: top;\n    }\n\n    .dataframe thead th {\n        text-align: right;\n    }\n</style>\n<table border=\"1\" class=\"dataframe\">\n  <thead>\n    <tr style=\"text-align: right;\">\n      <th></th>\n      <th>author</th>\n      <th>body</th>\n      <th>created</th>\n      <th>id</th>\n      <th>link_id</th>\n      <th>score</th>\n    </tr>\n  </thead>\n  <tbody>\n    <tr>\n      <th>0</th>\n      <td>MyPetKoala</td>\n      <td>By far the craziest week in the stock market t...</td>\n      <td>1.612570e+09</td>\n      <td>gm6fira</td>\n      <td>t3_ldh5fc</td>\n      <td>1304</td>\n    </tr>\n    <tr>\n      <th>1</th>\n      <td>AutisticallyGifted</td>\n      <td>This week has been the longest month. \\n\\nI no...</td>\n      <td>1.612560e+09</td>\n      <td>gm5uekf</td>\n      <td>t3_ldh5fc</td>\n      <td>397</td>\n    </tr>\n    <tr>\n      <th>2</th>\n      <td>D4nk1e</td>\n      <td>Fuck you and see you on monday</td>\n      <td>1.612559e+09</td>\n      <td>gm5sj0s</td>\n      <td>t3_ldh5fc</td>\n      <td>895</td>\n    </tr>\n    <tr>\n      <th>3</th>\n      <td>bsw000</td>\n      <td>Remember to leave Robinhood a review if you ha...</td>\n      <td>1.612559e+09</td>\n      <td>gm5t289</td>\n      <td>t3_ldh5fc</td>\n      <td>460</td>\n    </tr>\n    <tr>\n      <th>4</th>\n      <td>ccre4life</td>\n      <td>I'm honestly so happy that it has gone back to...</td>\n      <td>1.612563e+09</td>\n      <td>gm61h18</td>\n      <td>t3_ldh5fc</td>\n      <td>435</td>\n    </tr>\n    <tr>\n      <th>...</th>\n      <td>...</td>\n      <td>...</td>\n      <td>...</td>\n      <td>...</td>\n      <td>...</td>\n      <td>...</td>\n    </tr>\n    <tr>\n      <th>55857</th>\n      <td>TendiesMeWant</td>\n      <td>Great, you can't even defend what you said aft...</td>\n      <td>1.612637e+09</td>\n      <td>gm98umd</td>\n      <td>t3_ldvw8m</td>\n      <td>1</td>\n    </tr>\n    <tr>\n      <th>55858</th>\n      <td>mbeenox</td>\n      <td>Can make sense of your response</td>\n      <td>1.612649e+09</td>\n      <td>gma8011</td>\n      <td>t3_ldvw8m</td>\n      <td>2</td>\n    </tr>\n    <tr>\n      <th>55859</th>\n      <td>Totally_Kyle</td>\n      <td>You’re retarded</td>\n      <td>1.612646e+09</td>\n      <td>gm9vksn</td>\n      <td>t3_ldvw8m</td>\n      <td>1</td>\n    </tr>\n    <tr>\n      <th>55860</th>\n      <td>Jazzlike-Recover7560</td>\n      <td>I see</td>\n      <td>1.612649e+09</td>\n      <td>gma85f6</td>\n      <td>t3_ldvw8m</td>\n      <td>1</td>\n    </tr>\n    <tr>\n      <th>55861</th>\n      <td>TastesLikeBurning</td>\n      <td>[You made me sad](https://i.imgur.com/jABc3FG....</td>\n      <td>1.612646e+09</td>\n      <td>gm9w15h</td>\n      <td>t3_ldvw8m</td>\n      <td>1</td>\n    </tr>\n  </tbody>\n</table>\n<p>55862 rows × 6 columns</p>\n</div>"
     },
     "metadata": {},
     "execution_count": 49
    }
   ],
   "source": [
    "comments_df"
   ]
  },
  {
   "cell_type": "code",
   "execution_count": 51,
   "metadata": {},
   "outputs": [],
   "source": [
    "posts_df.to_csv(\"/Users/tylersojka/Desktop/Bootcamp_Work/Final_Project_WSB/Scraper/posts.csv\")\n",
    "comments_df.to_csv(\"comments.csv\")"
   ]
  },
  {
   "cell_type": "code",
   "execution_count": 32,
   "metadata": {},
   "outputs": [
    {
     "output_type": "stream",
     "name": "stdout",
     "text": [
      "ld6nre\n"
     ]
    }
   ],
   "source": [
    "print(posts[1][2])"
   ]
  },
  {
   "cell_type": "code",
   "execution_count": 43,
   "metadata": {},
   "outputs": [
    {
     "output_type": "stream",
     "name": "stdout",
     "text": [
      "Buisness is boomin’\nThat'll be 45 GME! I mean 52 GME... 56.... 59.... 74.... 67.... 53\nPaul is the shit, that sign always make me laugh.  Glad to see another DE retard in the mix.\n\n🦍🦍💎✋🚀🚀\n\nRocket to the moon or to 0.  I like the stock\nSigned a contract on a BMW for 100 shares of GME when it was at $400, sucks to be them!\n\"How do we specifically find customers who make poor financial decisions and might have enough spare change to buy a car?\"\nSerious question from a retard: can you actually give or pay someone in stocks?\nPaul knows what's up!   \n🚀🚀🚀🌒\nAs long as you don't sell them.\nNewark delaware has entered the fray\nThis is the future I'm sticking around for, where GME stock replaces the dollar as medium of exchange and unit of measurement\nNice try, hedge funds!\nBut do they service rockets?\nThank you sir now you owe me $69,420 worth of automotive parts\nUSD? Nah. \n\nGME stock? *drools\nWhat’s ironic is this photo is from when  GME was $4\nHow do they transfer the stock¿\nYou can have any Little Tree air freshener scent you want.\nRush pike boys\n[Coincidence?](https://imgur.com/a/g0AyQej)\nBut do they take pubes?\nI’m kinda over the whole GME frenzie, but this one’s just awesome! Love it\nFirst automotive repair shop on the moon.\nHey I know where that is!\nLimestone Road, nice.\nToo rich for my blood.\nStill easier to use as a currency than bitchcoin\nepic\nPine Creek Automotism.\n[removed]\nHow do you trade someone a stock?\nI knew it!\nI've been trying to get my wife to at least go get an onlyfans where she can post herself and her boyfriend and just take payment in GME.\nThat way, maybe I could atleast her to watch!\nSticky\n\n...Good bot ![gif](emote|free_emotes_pack|give_upvote)\n🔥🔥🔥\nYou know what they say about us... 💎💎💎💎 DIAMOND STATE, HOME OF DIAMOND HANDS\nwent from being a weekly rate.. To hourly..\nBruh this place is literally right next to my house. They always put the funniest shit on that sign\nWaiting to hear the article, \"Paul Campanella, a fund manager at Melvin Capital, uses his late father's car repair shop as front to acquire GameStop shares\"\nLol. Delaware. They are all born retarded in that state from the DuPont chemicals in the water.\nin 2022 gamestop stonks will replace any other money. just hold them my fellow apes! 🙌💎\nSeems inconvenient considering they'll be paying $1000 per share\nhaha B/itcoin memes getting recycled\nYo, pike creek what's up!\nHis wife's BF said she was a quart low last he read his dipstick. I don't know if I want him working on my car or portfolio based on this.\nI grew up in Wilmington!  DE gang!\n[https://youtu.be/pMe03MPd608](https://youtu.be/pMe03MPd608)\nThat's fucking awesome\nAnd I’m in the sweat room of a dealer rn about to sign away a lot of tendies. It’s like they can spot autism a mile away\nIt depends on a multitude of factors such as:\n\n1) do they want it \n2) do you not want it\n3) are you a politician\nAlso serious question: I wonder if they could be held legally liable if someone genuinely came in offering to pay in GME stocks and they declined it. I mean, I think that's even too frivolous for a lawyer to bother taking up (and that's saying something), but still.\nLifeProTip: You can leave pubes as gratuity at hotels. Just leave a pile on the pillow for the cleaning staff.\nSave that currency for the moon!\nDelaware?\n[removed]\nEat my dongus you fuckin nerd.\n\n*I am a bot, and this action was performed automatically. Please [contact the moderators of this subreddit](/message/compose/?to=/r/wallstreetbets) if you have any questions or concerns.*\nOotl, what’s the slash for?\nHockessin checking in\nNewark in the house! Well if we weren’t stationed overseas. Nice to see a little home in the scroll.\nNewark gang 💎🚀👋🏼\nEvery senator enters the chat\\*\nOh I absolutely do. And never, EVER turn on a blacklight in a hotel room I have recently vacated.\nAwwww yeeeaaah.  Off Shipley Road.\n[removed]\nI think the B word is like Voldemort around here.\nThe mods here tend to hate b/itcoin or anything c/rypto related. Not sure why, that stuff is doing awesome these days; and yet I still love this sub.\nTry to comment the word without the /\nThe Old men\n[removed]\nAny thing related to the word c is removed by the holy auto mod\n[removed]\nThe word hold with the L and the D swapped also gets automod removed regardless of context because it's long been associated with \\*those markets\n\n\\*Literally just commented this but used the forbidden c word at the end and got a message it was automod removed lmao\nWhich is good if we needed another c group we'd do that, soon as that's included here thats all it is\n[removed]\n[removed]\n[removed]\n[removed]\n[removed]\n[removed]\n[removed]\n[removed]\n[removed]\n[removed]\n[removed]\n[removed]\n[removed]\n[removed]\n[removed]\n"
     ]
    }
   ],
   "source": [
    "# extracting ALL the comments AND replies from the top post (at the time) ##**no(top 500+ sorted by best on reddit)\n",
    "submission = reddit.submission(id=\"ldl7kk\")\n",
    "submission.comments.replace_more(limit=None)\n",
    "print(submission.title)\n",
    "for comment in submission.comments.list():\n",
    "    # print(post.title)\n",
    "    print(comment.body)\n",
    "    comments.append(comment.body)\n"
   ]
  },
  {
   "cell_type": "code",
   "execution_count": 44,
   "metadata": {},
   "outputs": [
    {
     "output_type": "stream",
     "name": "stdout",
     "text": [
      "85\n"
     ]
    }
   ],
   "source": [
    "print(len(comments))"
   ]
  },
  {
   "cell_type": "code",
   "execution_count": 46,
   "metadata": {},
   "outputs": [
    {
     "output_type": "stream",
     "name": "stdout",
     "text": [
      "Weekend Discussion Thread for the Weekend of February 05, 2021\n{'_comments': [Comment(id='gm6fira'),\n               Comment(id='gm5uekf'),\n               Comment(id='gm5sj0s'),\n               Comment(id='gm5t289'),\n               Comment(id='gm61h18'),\n               Comment(id='gm5u9tc'),\n               Comment(id='gm68nln'),\n               Comment(id='gm5weym'),\n               Comment(id='gm5vyk0'),\n               Comment(id='gm6bzmw'),\n               Comment(id='gm5sngf'),\n               Comment(id='gm6efwh'),\n               Comment(id='gm5sj75'),\n               Comment(id='gm5sbgf'),\n               Comment(id='gm6ckc5'),\n               Comment(id='gm81ivs'),\n               Comment(id='gm5s5sv'),\n               Comment(id='gm6m8x1'),\n               Comment(id='gm5vvqo'),\n               Comment(id='gm5wml9'),\n               Comment(id='gm5sz0y'),\n               Comment(id='gm5senn'),\n               Comment(id='gm68a1l'),\n               Comment(id='gm8h54t'),\n               Comment(id='gm64qkn'),\n               Comment(id='gm5u3ok'),\n               Comment(id='gm6aizn'),\n               Comment(id='gm75npg'),\n               Comment(id='gm5t5hg'),\n               Comment(id='gm6hily'),\n               Comment(id='gm5skm7'),\n               Comment(id='gm6ej58'),\n               Comment(id='gm6xabf'),\n               Comment(id='gm5v3xl'),\n               Comment(id='gm5sd6k'),\n               Comment(id='gm62vny'),\n               Comment(id='gm6f1v3'),\n               Comment(id='gm6d02t'),\n               Comment(id='gm5s5yi'),\n               Comment(id='gm5sa5i'),\n               Comment(id='gm8nz4e'),\n               Comment(id='gm5sa9n'),\n               Comment(id='gm5s74u'),\n               Comment(id='gm5wp89'),\n               Comment(id='gm60qmm'),\n               Comment(id='gm61qpb'),\n               Comment(id='gm69s3b'),\n               Comment(id='gm72n6s'),\n               Comment(id='gm77yw2'),\n               Comment(id='gm5sdzx'),\n               Comment(id='gm5s3oz'),\n               Comment(id='gm5ta90'),\n               Comment(id='gm6gjug'),\n               Comment(id='gm6hee4'),\n               Comment(id='gm6x1de'),\n               Comment(id='gm6zwwd'),\n               Comment(id='gm8gaoe'),\n               Comment(id='gm6dmcc'),\n               Comment(id='gm8ck1m'),\n               Comment(id='gm5sje7'),\n               Comment(id='gm5ugnr'),\n               Comment(id='gm69ux9'),\n               Comment(id='gm5sexm'),\n               Comment(id='gm5san4'),\n               Comment(id='gm5v2ev'),\n               Comment(id='gm69bf4'),\n               Comment(id='gm6bujz'),\n               Comment(id='gm6eykc'),\n               Comment(id='gm6u65f'),\n               Comment(id='gm6xebl'),\n               Comment(id='gm71828'),\n               Comment(id='gm73a04'),\n               Comment(id='gm7cxfw'),\n               Comment(id='gm7mlic'),\n               Comment(id='gm8fmw4'),\n               Comment(id='gm6hiy9'),\n               Comment(id='gm5ty8d'),\n               Comment(id='gm6c65w'),\n               Comment(id='gm6gl96'),\n               Comment(id='gm851xs'),\n               Comment(id='gm8gina'),\n               Comment(id='gm5s9rw'),\n               Comment(id='gm5sjkp'),\n               Comment(id='gm5tfp1'),\n               Comment(id='gm5uuwo'),\n               Comment(id='gm5uwz2'),\n               Comment(id='gm6cxzv'),\n               Comment(id='gm6d41c'),\n               Comment(id='gm5zoz1'),\n               Comment(id='gm6a8xs'),\n               Comment(id='gm75e22'),\n               Comment(id='gm7b2nh'),\n               Comment(id='gm6sgs2'),\n               Comment(id='gm5tdvu'),\n               Comment(id='gm5sabo'),\n               Comment(id='gm5shkp'),\n               Comment(id='gm5sb1l'),\n               Comment(id='gm6ylqv'),\n               Comment(id='gm8diuw'),\n               Comment(id='gm8ob85'),\n               Comment(id='gm6hic9'),\n               Comment(id='gm5yvau'),\n               Comment(id='gm61u3y'),\n               Comment(id='gm62wly'),\n               Comment(id='gm66vcs'),\n               Comment(id='gm76tjm'),\n               Comment(id='gm8nnho'),\n               Comment(id='gm8o8gt'),\n               Comment(id='gm7g62l'),\n               Comment(id='gm7las8'),\n               Comment(id='gm7w2ps'),\n               Comment(id='gm8hkhc'),\n               Comment(id='gm5w0gg'),\n               Comment(id='gm63pwn'),\n               Comment(id='gm6u6ua'),\n               Comment(id='gm6ungg'),\n               Comment(id='gm6xto6'),\n               Comment(id='gm6zmsk'),\n               Comment(id='gm77281'),\n               Comment(id='gm8d7s9'),\n               Comment(id='gm5wdf7'),\n               Comment(id='gm66l7k'),\n               Comment(id='gm6akj0'),\n               Comment(id='gm6bqr8'),\n               Comment(id='gm6uc6h'),\n               Comment(id='gm834d5'),\n               Comment(id='gm6188d'),\n               Comment(id='gm5ys91'),\n               Comment(id='gm5s6cq'),\n               Comment(id='gm5wanl'),\n               Comment(id='gm6wunf'),\n               Comment(id='gm6zd89'),\n               Comment(id='gm78t1r'),\n               Comment(id='gm7daq3'),\n               Comment(id='gm7dzzz'),\n               Comment(id='gm7gcvx'),\n               Comment(id='gm7qg6r'),\n               Comment(id='gm82nlv'),\n               Comment(id='gm899b2'),\n               Comment(id='gm8j4js'),\n               Comment(id='gm8qb3u'),\n               Comment(id='gm8rg6v'),\n               Comment(id='gm7wi59'),\n               Comment(id='gm60u8d'),\n               Comment(id='gm6btqv'),\n               Comment(id='gm6e19n'),\n               Comment(id='gm6hxem'),\n               Comment(id='gm6pwgn'),\n               Comment(id='gm6wl74'),\n               Comment(id='gm7dy3r'),\n               Comment(id='gm7el9t'),\n               Comment(id='gm7u9h4'),\n               Comment(id='gm7vau3'),\n               Comment(id='gm8qaer'),\n               Comment(id='gm8rtow'),\n               Comment(id='gm5y0i8'),\n               Comment(id='gm6df0c'),\n               Comment(id='gm6f5fo'),\n               Comment(id='gm6wzzc'),\n               Comment(id='gm6yrbp'),\n               Comment(id='gm75v61'),\n               Comment(id='gm76ep2'),\n               Comment(id='gm7804e'),\n               Comment(id='gm7dw5w'),\n               Comment(id='gm7wa51'),\n               Comment(id='gm81uqy'),\n               Comment(id='gm8ewrd'),\n               Comment(id='gm8iwyb'),\n               Comment(id='gm68z15'),\n               Comment(id='gm6b9f7'),\n               Comment(id='gm5vovl'),\n               Comment(id='gm63sii'),\n               Comment(id='gm66e51'),\n               Comment(id='gm6bm2y'),\n               Comment(id='gm6dgz0'),\n               Comment(id='gm7cb41'),\n               Comment(id='gm7f6ii'),\n               Comment(id='gm7m532'),\n               Comment(id='gm8tmdv'),\n               Comment(id='gm5wqyi'),\n               Comment(id='gm5y19d'),\n               Comment(id='gm63co4'),\n               Comment(id='gm645j6'),\n               Comment(id='gm6a2j9'),\n               Comment(id='gm6cmpi'),\n               Comment(id='gm6defa'),\n               Comment(id='gm6dwan'),\n               Comment(id='gm6rone'),\n               Comment(id='gm6zizm'),\n               Comment(id='gm71l5k'),\n               Comment(id='gm7itb8'),\n               Comment(id='gm7rnvs'),\n               Comment(id='gm7tbce'),\n               Comment(id='gm7tvae'),\n               Comment(id='gm82tv6'),\n               Comment(id='gm8mz1r'),\n               Comment(id='gm5s5n8'),\n               Comment(id='gm66ex8'),\n               Comment(id='gm674z8'),\n               Comment(id='gm68ll4'),\n               Comment(id='gm69m3i'),\n               Comment(id='gm6bosd'),\n               Comment(id='gm6ewwp'),\n               Comment(id='gm6huhh'),\n               Comment(id='gm6lixh'),\n               Comment(id='gm6n4nm'),\n               Comment(id='gm6taqe'),\n               Comment(id='gm6v9yq'),\n               Comment(id='gm6xgr5'),\n               Comment(id='gm6zgam'),\n               Comment(id='gm72x60'),\n               Comment(id='gm73cqs'),\n               Comment(id='gm76zr8'),\n               Comment(id='gm78e3g'),\n               Comment(id='gm7b29r'),\n               Comment(id='gm7hm6a'),\n               Comment(id='gm7id5j'),\n               Comment(id='gm7lb1f'),\n               Comment(id='gm7ld6f'),\n               Comment(id='gm7qd5z'),\n               Comment(id='gm7smmt'),\n               Comment(id='gm8honi'),\n               Comment(id='gm8n5zn'),\n               Comment(id='gm8p7tq'),\n               Comment(id='gm5s6ej'),\n               Comment(id='gm5sy44'),\n               Comment(id='gm5w3y5'),\n               Comment(id='gm5xl1h'),\n               Comment(id='gm6b1yr'),\n               Comment(id='gm6dgd8'),\n               Comment(id='gm6itc4'),\n               Comment(id='gm6qmgh'),\n               Comment(id='gm6r6r7'),\n               Comment(id='gm6rc9k'),\n               Comment(id='gm6uh31'),\n               Comment(id='gm6wtib'),\n               Comment(id='gm6xjlh'),\n               Comment(id='gm72c6n'),\n               Comment(id='gm74t92'),\n               Comment(id='gm5sxkw'),\n               Comment(id='gm5txen'),\n               Comment(id='gm5x1vj'),\n               Comment(id='gm5xqiw'),\n               Comment(id='gm5zzrg'),\n               Comment(id='gm6030y'),\n               Comment(id='gm61pqz'),\n               Comment(id='gm6715m'),\n               Comment(id='gm6cth5'),\n               Comment(id='gm6fuva'),\n               Comment(id='gm6m5eb'),\n               Comment(id='gm6n730'),\n               Comment(id='gm6ne1j'),\n               Comment(id='gm6oq61'),\n               Comment(id='gm6t9fh'),\n               Comment(id='gm6tzwi'),\n               Comment(id='gm7amkj'),\n               Comment(id='gm7eivc'),\n               Comment(id='gm7fklm'),\n               Comment(id='gm7jify'),\n               Comment(id='gm7lis4'),\n               Comment(id='gm7u0qc'),\n               Comment(id='gm7wep6'),\n               Comment(id='gm83hpi'),\n               Comment(id='gm89dit'),\n               Comment(id='gm8fv24'),\n               Comment(id='gm8ossy'),\n               Comment(id='gm5ttap'),\n               Comment(id='gm64sjs'),\n               Comment(id='gm8izxa'),\n               Comment(id='gm653ap'),\n               Comment(id='gm5uahc'),\n               Comment(id='gm5xbua'),\n               Comment(id='gm63w11'),\n               Comment(id='gm65t0f'),\n               Comment(id='gm68hw3'),\n               Comment(id='gm6d16a'),\n               Comment(id='gm6d8y1'),\n               Comment(id='gm6dpi6'),\n               Comment(id='gm6kz6q'),\n               Comment(id='gm6n8ao'),\n               Comment(id='gm6rul0'),\n               Comment(id='gm6u4m6'),\n               Comment(id='gm6wsxr'),\n               Comment(id='gm6x0h8'),\n               Comment(id='gm6zv74'),\n               Comment(id='gm6zyl6'),\n               Comment(id='gm71bp1'),\n               Comment(id='gm76560'),\n               Comment(id='gm76i1q'),\n               Comment(id='gm77x4f'),\n               Comment(id='gm7az08'),\n               Comment(id='gm7ev5b'),\n               Comment(id='gm7kjes'),\n               Comment(id='gm7l0c3'),\n               Comment(id='gm7l155'),\n               Comment(id='gm7mjd2'),\n               Comment(id='gm81q7z'),\n               Comment(id='gm8du5m'),\n               Comment(id='gm8kbaw'),\n               Comment(id='gm8ny23'),\n               Comment(id='gm8oej6'),\n               Comment(id='gm8qknv'),\n               Comment(id='gm8t1y6'),\n               Comment(id='gm8tfqb'),\n               Comment(id='gm8ltap'),\n               Comment(id='gm5skpr'),\n               Comment(id='gm5th57'),\n               Comment(id='gm5v2zv'),\n               Comment(id='gm5yvo6'),\n               Comment(id='gm5z23o'),\n               Comment(id='gm61jna'),\n               Comment(id='gm62tyu'),\n               Comment(id='gm63yas'),\n               Comment(id='gm6471t'),\n               Comment(id='gm67ya1'),\n               Comment(id='gm68uqe'),\n               Comment(id='gm69kk2'),\n               Comment(id='gm6cv9k'),\n               Comment(id='gm6qtmn'),\n               Comment(id='gm6zbdu'),\n               Comment(id='gm79d3j'),\n               Comment(id='gm7c3tx'),\n               Comment(id='gm7i5cu'),\n               Comment(id='gm7oai6'),\n               Comment(id='gm7qn6m'),\n               Comment(id='gm7u018'),\n               Comment(id='gm8aavr'),\n               Comment(id='gm8av2c'),\n               Comment(id='gm8hvwp'),\n               Comment(id='gm8i8nl'),\n               Comment(id='gm8nn3v'),\n               Comment(id='gm8rhu9'),\n               Comment(id='gm5safi'),\n               Comment(id='gm5vd80'),\n               Comment(id='gm5zia4'),\n               Comment(id='gm6fat2'),\n               Comment(id='gm7511l'),\n               Comment(id='gm89gy1'),\n               Comment(id='gm8e273'),\n               Comment(id='gm8hebc'),\n               Comment(id='gm5ugqu'),\n               Comment(id='gm5vk5y'),\n               Comment(id='gm5vna0'),\n               Comment(id='gm5vrca'),\n               Comment(id='gm5xtu3'),\n               Comment(id='gm5yt99'),\n               Comment(id='gm5z0tg'),\n               Comment(id='gm616sl'),\n               Comment(id='gm61kms'),\n               Comment(id='gm64eg3'),\n               Comment(id='gm664c6'),\n               Comment(id='gm66ota'),\n               Comment(id='gm69x3s'),\n               Comment(id='gm6blqj'),\n               Comment(id='gm6c6j5'),\n               Comment(id='gm6c7wx'),\n               Comment(id='gm6ei1m'),\n               Comment(id='gm6eof5'),\n               Comment(id='gm6gpac'),\n               Comment(id='gm6os1s'),\n               Comment(id='gm6u2w0'),\n               Comment(id='gm6u54t'),\n               Comment(id='gm6ydws'),\n               Comment(id='gm73ttw'),\n               Comment(id='gm76dcz'),\n               Comment(id='gm77lxl'),\n               Comment(id='gm79chl'),\n               Comment(id='gm7fppp'),\n               Comment(id='gm7iw1l'),\n               Comment(id='gm7kji3'),\n               Comment(id='gm7m4ha'),\n               Comment(id='gm7tjs9'),\n               Comment(id='gm7tm1b'),\n               Comment(id='gm7tz42'),\n               Comment(id='gm7vjjh'),\n               Comment(id='gm7vtd2'),\n               Comment(id='gm8bqeo'),\n               Comment(id='gm8ftas'),\n               Comment(id='gm8o11q'),\n               Comment(id='gm8pun5'),\n               Comment(id='gm8ty3b'),\n               Comment(id='gm5s4li'),\n               Comment(id='gm5s9fy'),\n               Comment(id='gm5ty1n'),\n               Comment(id='gm5tz1g'),\n               Comment(id='gm5vt5j'),\n               Comment(id='gm6hyr5'),\n               Comment(id='gm6nkve'),\n               Comment(id='gm6x40y'),\n               Comment(id='gm5s3sa'),\n               Comment(id='gm7y1v2'),\n               Comment(id='gm64jnu'),\n               Comment(id='gm5tdcq'),\n               Comment(id='gm5thhd'),\n               Comment(id='gm5ypw3'),\n               Comment(id='gm5zm4v'),\n               Comment(id='gm62eyx'),\n               Comment(id='gm68oxh'),\n               Comment(id='gm6djal'),\n               Comment(id='gm7fncf'),\n               Comment(id='gm8gqzc'),\n               Comment(id='gm8pxv2'),\n               Comment(id='gm5scul'),\n               Comment(id='gm5ub4q'),\n               Comment(id='gm5vue1'),\n               Comment(id='gm5ypvj'),\n               Comment(id='gm6buy7'),\n               Comment(id='gm75vov'),\n               Comment(id='gm7g6qc'),\n               Comment(id='gm7mvsv'),\n               Comment(id='gm859mk'),\n               Comment(id='gm87mlr'),\n               Comment(id='gm8pguu'),\n               Comment(id='gm5sj8g'),\n               <MoreComments count=25775, children=['gm653pl', 'gm6kjyk', 'gm7pafh', '...']>],\n '_submission': Submission(id='ldh5fc')}\n"
     ]
    }
   ],
   "source": [
    "# assume you have a Reddit instance bound to variable `reddit`\n",
    "submission = reddit.submission(id=posts[0][2])\n",
    "print(submission.title) # to make it non-lazy\n",
    "pprint.pprint(vars(submission.comments))"
   ]
  },
  {
   "cell_type": "code",
   "execution_count": null,
   "metadata": {},
   "outputs": [],
   "source": []
  }
 ]
}